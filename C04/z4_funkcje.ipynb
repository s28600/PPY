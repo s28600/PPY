{
 "cells": [
  {
   "cell_type": "markdown",
   "source": [
    "## Funkcje"
   ],
   "metadata": {
    "collapsed": false
   }
  },
  {
   "cell_type": "code",
   "execution_count": 1,
   "outputs": [],
   "source": [
    "def drukuj_liczbe_razy(napis, ile_razy):\n",
    "    for _ in range(ile_razy):\n",
    "        print(napis)"
   ],
   "metadata": {
    "collapsed": false,
    "ExecuteTime": {
     "end_time": "2024-03-20T13:58:28.410614700Z",
     "start_time": "2024-03-20T13:58:28.410614700Z"
    }
   }
  },
  {
   "cell_type": "code",
   "execution_count": 2,
   "outputs": [
    {
     "name": "stdout",
     "output_type": "stream",
     "text": [
      "aaa\n",
      "aaa\n",
      "aaa\n",
      "aaa\n",
      "aaa\n"
     ]
    }
   ],
   "source": [
    "drukuj_liczbe_razy(\"aaa\", 5)"
   ],
   "metadata": {
    "collapsed": false,
    "ExecuteTime": {
     "end_time": "2024-03-20T13:58:29.932704500Z",
     "start_time": "2024-03-20T13:58:29.916572800Z"
    }
   }
  },
  {
   "cell_type": "markdown",
   "source": [
    "#### Zwracanie wartości\n",
    "* funkcja zwraca to co jest po słowie kluczowym return\n",
    "* nic dalej w funkcji się nie wykona\n",
    "* można zwracać kilka rzeczy jako krotkę"
   ],
   "metadata": {
    "collapsed": false
   }
  },
  {
   "cell_type": "code",
   "execution_count": 3,
   "outputs": [],
   "source": [
    "def suma(a, b):\n",
    "    return a + b"
   ],
   "metadata": {
    "collapsed": false,
    "ExecuteTime": {
     "end_time": "2024-03-20T13:58:32.278642500Z",
     "start_time": "2024-03-20T13:58:32.262242100Z"
    }
   }
  },
  {
   "cell_type": "code",
   "execution_count": 4,
   "outputs": [
    {
     "data": {
      "text/plain": "5"
     },
     "execution_count": 4,
     "metadata": {},
     "output_type": "execute_result"
    }
   ],
   "source": [
    "suma(2, 3)"
   ],
   "metadata": {
    "collapsed": false,
    "ExecuteTime": {
     "end_time": "2024-03-20T13:58:33.223592100Z",
     "start_time": "2024-03-20T13:58:33.218597600Z"
    }
   }
  },
  {
   "cell_type": "code",
   "execution_count": 5,
   "outputs": [],
   "source": [
    "def suma_iloczyn(a, b):\n",
    "    return a + b, a * b"
   ],
   "metadata": {
    "collapsed": false,
    "ExecuteTime": {
     "end_time": "2024-03-20T13:58:36.428779700Z",
     "start_time": "2024-03-20T13:58:36.425842600Z"
    }
   }
  },
  {
   "cell_type": "code",
   "execution_count": 6,
   "outputs": [
    {
     "data": {
      "text/plain": "(5, 6)"
     },
     "execution_count": 6,
     "metadata": {},
     "output_type": "execute_result"
    }
   ],
   "source": [
    "suma_iloczyn(2, 3)"
   ],
   "metadata": {
    "collapsed": false,
    "ExecuteTime": {
     "end_time": "2024-03-20T13:58:38.829338100Z",
     "start_time": "2024-03-20T13:58:38.817912100Z"
    }
   }
  },
  {
   "cell_type": "code",
   "execution_count": 7,
   "outputs": [
    {
     "name": "stdout",
     "output_type": "stream",
     "text": [
      "5\n",
      "6\n"
     ]
    }
   ],
   "source": [
    "s, il = suma_iloczyn(2, 3)\n",
    "print(s)\n",
    "print(il)"
   ],
   "metadata": {
    "collapsed": false,
    "ExecuteTime": {
     "end_time": "2024-03-20T13:58:41.510236700Z",
     "start_time": "2024-03-20T13:58:41.503885200Z"
    }
   }
  },
  {
   "cell_type": "markdown",
   "source": [
    "### Parametry z wartościami domyślnymi\n",
    "* argumenty pozycyjne\n",
    "* argumenty z nazwami"
   ],
   "metadata": {
    "collapsed": false
   }
  },
  {
   "cell_type": "code",
   "execution_count": 8,
   "outputs": [],
   "source": [
    "def iloczyn(a, b, c=1):\n",
    "    return a * b * c"
   ],
   "metadata": {
    "collapsed": false,
    "ExecuteTime": {
     "end_time": "2024-03-20T13:58:44.549934400Z",
     "start_time": "2024-03-20T13:58:44.549934400Z"
    }
   }
  },
  {
   "cell_type": "code",
   "execution_count": 9,
   "outputs": [
    {
     "data": {
      "text/plain": "6"
     },
     "execution_count": 9,
     "metadata": {},
     "output_type": "execute_result"
    }
   ],
   "source": [
    "iloczyn(2, 3)"
   ],
   "metadata": {
    "collapsed": false,
    "ExecuteTime": {
     "end_time": "2024-03-20T13:58:46.004184600Z",
     "start_time": "2024-03-20T13:58:46.001800800Z"
    }
   }
  },
  {
   "cell_type": "code",
   "execution_count": 10,
   "outputs": [
    {
     "data": {
      "text/plain": "24"
     },
     "execution_count": 10,
     "metadata": {},
     "output_type": "execute_result"
    }
   ],
   "source": [
    "iloczyn(2, 3, 4)"
   ],
   "metadata": {
    "collapsed": false,
    "ExecuteTime": {
     "end_time": "2024-03-20T13:58:46.763869Z",
     "start_time": "2024-03-20T13:58:46.756432900Z"
    }
   }
  },
  {
   "cell_type": "code",
   "execution_count": 11,
   "outputs": [
    {
     "data": {
      "text/plain": "24"
     },
     "execution_count": 11,
     "metadata": {},
     "output_type": "execute_result"
    }
   ],
   "source": [
    "iloczyn(2, 3, c=4)"
   ],
   "metadata": {
    "collapsed": false,
    "ExecuteTime": {
     "end_time": "2024-03-20T13:58:49.547619100Z",
     "start_time": "2024-03-20T13:58:49.547619100Z"
    }
   }
  },
  {
   "cell_type": "code",
   "execution_count": 12,
   "outputs": [
    {
     "ename": "SyntaxError",
     "evalue": "positional argument follows keyword argument (2178966099.py, line 1)",
     "output_type": "error",
     "traceback": [
      "\u001B[1;36m  Cell \u001B[1;32mIn[12], line 1\u001B[1;36m\u001B[0m\n\u001B[1;33m    iloczyn(a, b=1, 2)\u001B[0m\n\u001B[1;37m                     ^\u001B[0m\n\u001B[1;31mSyntaxError\u001B[0m\u001B[1;31m:\u001B[0m positional argument follows keyword argument\n"
     ]
    }
   ],
   "source": [
    "iloczyn(a, b=1, 2)"
   ],
   "metadata": {
    "collapsed": false,
    "ExecuteTime": {
     "end_time": "2024-03-20T13:58:50.204676700Z",
     "start_time": "2024-03-20T13:58:50.198141Z"
    }
   }
  },
  {
   "cell_type": "code",
   "execution_count": 13,
   "outputs": [
    {
     "ename": "SyntaxError",
     "evalue": "non-default argument follows default argument (2946546433.py, line 1)",
     "output_type": "error",
     "traceback": [
      "\u001B[1;36m  Cell \u001B[1;32mIn[13], line 1\u001B[1;36m\u001B[0m\n\u001B[1;33m    def iloczyn(a, b, c=1, d):\u001B[0m\n\u001B[1;37m                           ^\u001B[0m\n\u001B[1;31mSyntaxError\u001B[0m\u001B[1;31m:\u001B[0m non-default argument follows default argument\n"
     ]
    }
   ],
   "source": [
    "def iloczyn(a, b, c=1, d):\n",
    "    return a * b * c"
   ],
   "metadata": {
    "collapsed": false,
    "ExecuteTime": {
     "end_time": "2024-03-20T13:58:50.908165500Z",
     "start_time": "2024-03-20T13:58:50.907658900Z"
    }
   }
  },
  {
   "cell_type": "markdown",
   "source": [
    "### Args i kwargs\n",
    "Do przekazywania nieznanej liczby argumentów\n",
    "* args - wewnątrz funkcji jako krotka\n",
    "* kwargs - wewnątrz funkcji jako słownik"
   ],
   "metadata": {
    "collapsed": false
   }
  },
  {
   "cell_type": "code",
   "execution_count": 14,
   "outputs": [],
   "source": [
    "def fun(*args):\n",
    "    print(args)\n",
    "    print(type(args))"
   ],
   "metadata": {
    "collapsed": false,
    "ExecuteTime": {
     "end_time": "2024-03-20T13:58:52.438029600Z",
     "start_time": "2024-03-20T13:58:52.437524800Z"
    }
   }
  },
  {
   "cell_type": "code",
   "execution_count": 15,
   "outputs": [
    {
     "name": "stdout",
     "output_type": "stream",
     "text": [
      "(1, 2, 3)\n",
      "<class 'tuple'>\n"
     ]
    }
   ],
   "source": [
    "fun(1, 2, 3)"
   ],
   "metadata": {
    "collapsed": false,
    "ExecuteTime": {
     "end_time": "2024-03-20T13:58:53.114855Z",
     "start_time": "2024-03-20T13:58:53.114349900Z"
    }
   }
  },
  {
   "cell_type": "code",
   "execution_count": 16,
   "outputs": [],
   "source": [
    "def fun1(**kwargs):\n",
    "    print(kwargs)\n",
    "    print(type(kwargs))"
   ],
   "metadata": {
    "collapsed": false,
    "ExecuteTime": {
     "end_time": "2024-03-20T13:58:54.355083300Z",
     "start_time": "2024-03-20T13:58:54.354577600Z"
    }
   }
  },
  {
   "cell_type": "code",
   "execution_count": 17,
   "outputs": [
    {
     "ename": "TypeError",
     "evalue": "fun1() takes 0 positional arguments but 3 were given",
     "output_type": "error",
     "traceback": [
      "\u001B[1;31m---------------------------------------------------------------------------\u001B[0m",
      "\u001B[1;31mTypeError\u001B[0m                                 Traceback (most recent call last)",
      "Cell \u001B[1;32mIn[17], line 1\u001B[0m\n\u001B[1;32m----> 1\u001B[0m \u001B[43mfun1\u001B[49m\u001B[43m(\u001B[49m\u001B[38;5;241;43m1\u001B[39;49m\u001B[43m,\u001B[49m\u001B[43m \u001B[49m\u001B[38;5;241;43m2\u001B[39;49m\u001B[43m,\u001B[49m\u001B[43m \u001B[49m\u001B[38;5;241;43m3\u001B[39;49m\u001B[43m)\u001B[49m\n",
      "\u001B[1;31mTypeError\u001B[0m: fun1() takes 0 positional arguments but 3 were given"
     ]
    }
   ],
   "source": [
    "fun1(1, 2, 3)"
   ],
   "metadata": {
    "collapsed": false,
    "ExecuteTime": {
     "end_time": "2024-03-20T13:58:55.918301600Z",
     "start_time": "2024-03-20T13:58:55.687179800Z"
    }
   }
  },
  {
   "cell_type": "code",
   "execution_count": 18,
   "outputs": [
    {
     "name": "stdout",
     "output_type": "stream",
     "text": [
      "{'a': 1, 'b': 2, 'c': 3}\n",
      "<class 'dict'>\n"
     ]
    }
   ],
   "source": [
    "fun1(a=1, b=2, c=3)"
   ],
   "metadata": {
    "collapsed": false,
    "ExecuteTime": {
     "end_time": "2024-03-20T13:58:58.331326Z",
     "start_time": "2024-03-20T13:58:58.330813800Z"
    }
   }
  },
  {
   "cell_type": "code",
   "execution_count": 19,
   "outputs": [],
   "source": [
    "def sumuj(*args):\n",
    "    suma = 0\n",
    "    for a in args:\n",
    "        suma += a\n",
    "    return suma"
   ],
   "metadata": {
    "collapsed": false,
    "ExecuteTime": {
     "end_time": "2024-03-20T13:58:59.242665200Z",
     "start_time": "2024-03-20T13:58:59.242665200Z"
    }
   }
  },
  {
   "cell_type": "code",
   "execution_count": 20,
   "outputs": [
    {
     "data": {
      "text/plain": "6"
     },
     "execution_count": 20,
     "metadata": {},
     "output_type": "execute_result"
    }
   ],
   "source": [
    "sumuj(1, 2, 3)"
   ],
   "metadata": {
    "collapsed": false,
    "ExecuteTime": {
     "end_time": "2024-03-20T13:59:00.355957200Z",
     "start_time": "2024-03-20T13:59:00.339694400Z"
    }
   }
  },
  {
   "cell_type": "code",
   "execution_count": 21,
   "outputs": [],
   "source": [
    "def drukuj(**kwargs):\n",
    "    for klucz, wartosc in kwargs.items():\n",
    "        print(\"Klucz: \", klucz, \", wartość: \", wartosc)"
   ],
   "metadata": {
    "collapsed": false,
    "ExecuteTime": {
     "end_time": "2024-03-20T13:59:01.082525400Z",
     "start_time": "2024-03-20T13:59:01.082525400Z"
    }
   }
  },
  {
   "cell_type": "code",
   "execution_count": 22,
   "outputs": [
    {
     "name": "stdout",
     "output_type": "stream",
     "text": [
      "Klucz:  a , wartość:  1\n",
      "Klucz:  b , wartość:  2\n"
     ]
    }
   ],
   "source": [
    "drukuj(a=1, b=2)"
   ],
   "metadata": {
    "collapsed": false,
    "ExecuteTime": {
     "end_time": "2024-03-20T13:59:01.930901300Z",
     "start_time": "2024-03-20T13:59:01.930901300Z"
    }
   }
  },
  {
   "cell_type": "markdown",
   "source": [
    "### Zmienne lokalne i globalne"
   ],
   "metadata": {
    "collapsed": false
   }
  },
  {
   "cell_type": "code",
   "execution_count": 23,
   "outputs": [],
   "source": [
    "x = 3"
   ],
   "metadata": {
    "collapsed": false,
    "ExecuteTime": {
     "end_time": "2024-03-20T13:59:05.677617100Z",
     "start_time": "2024-03-20T13:59:05.677113100Z"
    }
   }
  },
  {
   "cell_type": "code",
   "execution_count": 24,
   "outputs": [],
   "source": [
    "def fun2():\n",
    "    print(x)"
   ],
   "metadata": {
    "collapsed": false,
    "ExecuteTime": {
     "end_time": "2024-03-20T13:59:06.434224700Z",
     "start_time": "2024-03-20T13:59:06.434224700Z"
    }
   }
  },
  {
   "cell_type": "code",
   "execution_count": 25,
   "outputs": [
    {
     "name": "stdout",
     "output_type": "stream",
     "text": [
      "3\n"
     ]
    }
   ],
   "source": [
    "fun2()"
   ],
   "metadata": {
    "collapsed": false,
    "ExecuteTime": {
     "end_time": "2024-03-20T13:59:07.370994Z",
     "start_time": "2024-03-20T13:59:07.362539500Z"
    }
   }
  },
  {
   "cell_type": "code",
   "execution_count": 26,
   "outputs": [],
   "source": [
    "def fun3():\n",
    "    x = 2"
   ],
   "metadata": {
    "collapsed": false,
    "ExecuteTime": {
     "end_time": "2024-03-20T13:59:24.363981200Z",
     "start_time": "2024-03-20T13:59:24.332707300Z"
    }
   }
  },
  {
   "cell_type": "code",
   "execution_count": 27,
   "outputs": [
    {
     "name": "stdout",
     "output_type": "stream",
     "text": [
      "3\n"
     ]
    }
   ],
   "source": [
    "fun3()\n",
    "print(x)"
   ],
   "metadata": {
    "collapsed": false,
    "ExecuteTime": {
     "end_time": "2024-03-20T13:59:43.186132700Z",
     "start_time": "2024-03-20T13:59:43.170507400Z"
    }
   }
  },
  {
   "cell_type": "code",
   "execution_count": 28,
   "outputs": [],
   "source": [
    "def fun3():\n",
    "    x = x + 2"
   ],
   "metadata": {
    "collapsed": false,
    "ExecuteTime": {
     "end_time": "2024-03-20T14:00:02.422704300Z",
     "start_time": "2024-03-20T14:00:02.422704300Z"
    }
   }
  },
  {
   "cell_type": "code",
   "execution_count": 29,
   "outputs": [
    {
     "ename": "UnboundLocalError",
     "evalue": "cannot access local variable 'x' where it is not associated with a value",
     "output_type": "error",
     "traceback": [
      "\u001B[1;31m---------------------------------------------------------------------------\u001B[0m",
      "\u001B[1;31mUnboundLocalError\u001B[0m                         Traceback (most recent call last)",
      "Cell \u001B[1;32mIn[29], line 1\u001B[0m\n\u001B[1;32m----> 1\u001B[0m \u001B[43mfun3\u001B[49m\u001B[43m(\u001B[49m\u001B[43m)\u001B[49m\n",
      "Cell \u001B[1;32mIn[28], line 2\u001B[0m, in \u001B[0;36mfun3\u001B[1;34m()\u001B[0m\n\u001B[0;32m      1\u001B[0m \u001B[38;5;28;01mdef\u001B[39;00m \u001B[38;5;21mfun3\u001B[39m():\n\u001B[1;32m----> 2\u001B[0m     x \u001B[38;5;241m=\u001B[39m \u001B[43mx\u001B[49m \u001B[38;5;241m+\u001B[39m \u001B[38;5;241m2\u001B[39m\n",
      "\u001B[1;31mUnboundLocalError\u001B[0m: cannot access local variable 'x' where it is not associated with a value"
     ]
    }
   ],
   "source": [
    "fun3()"
   ],
   "metadata": {
    "collapsed": false,
    "ExecuteTime": {
     "end_time": "2024-03-20T14:00:15.005654100Z",
     "start_time": "2024-03-20T14:00:14.994120900Z"
    }
   }
  },
  {
   "cell_type": "code",
   "execution_count": 30,
   "outputs": [],
   "source": [
    "# raczej nie robimy tak\n",
    "def fun4():\n",
    "    global x\n",
    "    x = x + 2"
   ],
   "metadata": {
    "collapsed": false,
    "ExecuteTime": {
     "end_time": "2024-03-20T14:00:57.609900Z",
     "start_time": "2024-03-20T14:00:57.609900Z"
    }
   }
  },
  {
   "cell_type": "code",
   "execution_count": 31,
   "outputs": [
    {
     "name": "stdout",
     "output_type": "stream",
     "text": [
      "5\n"
     ]
    }
   ],
   "source": [
    "fun4()\n",
    "print(x)"
   ],
   "metadata": {
    "collapsed": false,
    "ExecuteTime": {
     "end_time": "2024-03-20T14:01:08.177943600Z",
     "start_time": "2024-03-20T14:01:08.162317700Z"
    }
   }
  },
  {
   "cell_type": "markdown",
   "source": [
    "### Przekazywanie parametrów\n",
    "* **referencja** do obiektu jest przekazywana przez **wartość**"
   ],
   "metadata": {
    "collapsed": false
   }
  },
  {
   "cell_type": "code",
   "execution_count": 32,
   "outputs": [],
   "source": [
    "def fun5(lista):\n",
    "    lista.append(100)"
   ],
   "metadata": {
    "collapsed": false,
    "ExecuteTime": {
     "end_time": "2024-03-20T15:11:23.847354500Z",
     "start_time": "2024-03-20T15:11:23.847354500Z"
    }
   }
  },
  {
   "cell_type": "code",
   "execution_count": 34,
   "outputs": [
    {
     "name": "stdout",
     "output_type": "stream",
     "text": [
      "[1, 2, 3, 100]\n"
     ]
    }
   ],
   "source": [
    "l = [1, 2, 3]\n",
    "fun5(l)\n",
    "print(l)\n",
    "# można używać krotek (są niemutowalne), żeby się nie pomylić"
   ],
   "metadata": {
    "collapsed": false,
    "ExecuteTime": {
     "end_time": "2024-03-20T15:12:49.447667100Z",
     "start_time": "2024-03-20T15:12:49.447308800Z"
    }
   }
  },
  {
   "cell_type": "code",
   "execution_count": 35,
   "outputs": [],
   "source": [
    "def fun6(x):\n",
    "    x = 2"
   ],
   "metadata": {
    "collapsed": false,
    "ExecuteTime": {
     "end_time": "2024-03-20T15:13:23.568109500Z",
     "start_time": "2024-03-20T15:13:23.568109500Z"
    }
   }
  },
  {
   "cell_type": "code",
   "execution_count": 36,
   "outputs": [
    {
     "name": "stdout",
     "output_type": "stream",
     "text": [
      "3\n"
     ]
    }
   ],
   "source": [
    "x = 3\n",
    "fun6(x)\n",
    "print(x)"
   ],
   "metadata": {
    "collapsed": false,
    "ExecuteTime": {
     "end_time": "2024-03-20T15:13:40.663316400Z",
     "start_time": "2024-03-20T15:13:40.647625400Z"
    }
   }
  },
  {
   "cell_type": "code",
   "execution_count": 37,
   "outputs": [
    {
     "name": "stdout",
     "output_type": "stream",
     "text": [
      "1310496051520\n",
      "1310496051520\n"
     ]
    }
   ],
   "source": [
    "l = [1, 2]\n",
    "print(id(l))\n",
    "l.append(4)\n",
    "print(id(l))"
   ],
   "metadata": {
    "collapsed": false,
    "ExecuteTime": {
     "end_time": "2024-03-20T15:14:39.721909100Z",
     "start_time": "2024-03-20T15:14:39.721909100Z"
    }
   }
  },
  {
   "cell_type": "code",
   "execution_count": 39,
   "outputs": [
    {
     "name": "stdout",
     "output_type": "stream",
     "text": [
      "140705326752584\n",
      "140705326752680\n"
     ]
    }
   ],
   "source": [
    "x = 2\n",
    "print(id(x))\n",
    "x = 5\n",
    "print(id(x))"
   ],
   "metadata": {
    "collapsed": false,
    "ExecuteTime": {
     "end_time": "2024-03-20T15:15:30.192549500Z",
     "start_time": "2024-03-20T15:15:30.192549500Z"
    }
   }
  },
  {
   "cell_type": "markdown",
   "source": [
    "### Zadania\n",
    "* Jakiś w treści zadań oznacza parametr funkcji\n",
    "* Będziemy pisać grę w kółko i krzyżyk, plansza jest reprezentowana jako lista list, np. taka:\n",
    " [['x', ' ', 'o'], ['o', ' ', 'x'], ['x', ' ', 'o']]\n",
    " * Funkcje mają działać dla plansz nxn, nie tylko 3x3"
   ],
   "metadata": {
    "collapsed": false
   }
  },
  {
   "cell_type": "markdown",
   "source": [],
   "metadata": {
    "collapsed": false
   }
  },
  {
   "cell_type": "code",
   "execution_count": null,
   "outputs": [],
   "source": [],
   "metadata": {
    "collapsed": false
   }
  },
  {
   "cell_type": "markdown",
   "source": [
    "#### Zadanie 1\n",
    "Napisać funkcję, która drukuje planszę w sposób estetyczny, np. tak jak poniżej"
   ],
   "metadata": {
    "collapsed": false
   }
  },
  {
   "cell_type": "code",
   "execution_count": 40,
   "outputs": [
    {
     "name": "stdout",
     "output_type": "stream",
     "text": [
      " x |   | o \n",
      "-----------\n",
      " o |   | x \n",
      "-----------\n",
      " x |   | o \n"
     ]
    }
   ],
   "source": [
    "print(\" x |   | o \")\n",
    "print(\"-----------\")\n",
    "print(\" o |   | x \")\n",
    "print(\"-----------\")\n",
    "print(\" x |   | o \")"
   ],
   "metadata": {
    "collapsed": false,
    "ExecuteTime": {
     "end_time": "2024-03-20T15:28:58.446888100Z",
     "start_time": "2024-03-20T15:28:58.431234800Z"
    }
   }
  },
  {
   "cell_type": "markdown",
   "source": [
    "#### Zadanie 2\n",
    "Napisać funkcję, która w pole o *jakiś* współrzędnych wstawia *jakiś* znak"
   ],
   "metadata": {
    "collapsed": false
   }
  },
  {
   "cell_type": "code",
   "execution_count": null,
   "outputs": [],
   "source": [],
   "metadata": {
    "collapsed": false
   }
  },
  {
   "cell_type": "markdown",
   "source": [
    "#### Zadanie 3\n",
    "Napisać funkcję, która wczytuje od użytkownika i zwraca wspórzędne ruchu (wczytywać tak długo, aż poda prawidłowe pole - w zakresie planszy i puste)"
   ],
   "metadata": {
    "collapsed": false
   }
  },
  {
   "cell_type": "code",
   "execution_count": null,
   "outputs": [],
   "source": [],
   "metadata": {
    "collapsed": false
   }
  },
  {
   "cell_type": "markdown",
   "source": [
    "#### Zadanie 4\n",
    "Napisać funkcję, która sprawdza, czy któryś wiersz zawiera tylko *jakiś* znak. Funkcja zwraca wartość logiczną."
   ],
   "metadata": {
    "collapsed": false
   }
  },
  {
   "cell_type": "code",
   "execution_count": null,
   "outputs": [],
   "source": [],
   "metadata": {
    "collapsed": false
   }
  },
  {
   "cell_type": "markdown",
   "source": [
    "#### Zadanie 5\n",
    "Napisać funkcję, która sprawdza, czy któraś kolumna zawiera tylko *jakiś* znak. Funkcja zwraca wartość logiczną."
   ],
   "metadata": {
    "collapsed": false
   }
  },
  {
   "cell_type": "code",
   "execution_count": null,
   "outputs": [],
   "source": [],
   "metadata": {
    "collapsed": false
   }
  },
  {
   "cell_type": "markdown",
   "source": [
    "#### Zadanie 6\n",
    "Napisać funkcję, która sprawdza, czy któraś przekątną zawiera tylko jakiś znak. Funkcja zwraca wartość logiczną."
   ],
   "metadata": {
    "collapsed": false
   }
  },
  {
   "cell_type": "code",
   "execution_count": null,
   "outputs": [],
   "source": [],
   "metadata": {
    "collapsed": false
   }
  },
  {
   "cell_type": "markdown",
   "source": [
    "#### Zadanie 7\n",
    "Napisać funkcję, która zwraca losowy (ale zgodny z zasadami gry ruch)"
   ],
   "metadata": {
    "collapsed": false
   }
  },
  {
   "cell_type": "code",
   "execution_count": null,
   "outputs": [],
   "source": [],
   "metadata": {
    "collapsed": false
   }
  },
  {
   "cell_type": "markdown",
   "source": [
    "#### Zadanie 8\n",
    "Napisać funkcję, która sprawdza, czy gra się skończyła. Funkcja zwraca wartość logiczną oraz wynik rozgrywki."
   ],
   "metadata": {
    "collapsed": false
   }
  },
  {
   "cell_type": "code",
   "execution_count": null,
   "outputs": [],
   "source": [],
   "metadata": {
    "collapsed": false
   }
  },
  {
   "cell_type": "markdown",
   "source": [
    "### Bonus: uruchomić grę z komputerem\n",
    "* gracz wpisuje swoje ruchy\n",
    "* komputer wykonuje losowe"
   ],
   "metadata": {
    "collapsed": false
   }
  },
  {
   "cell_type": "code",
   "execution_count": null,
   "outputs": [],
   "source": [],
   "metadata": {
    "collapsed": false
   }
  }
 ],
 "metadata": {
  "kernelspec": {
   "display_name": "Python 3",
   "language": "python",
   "name": "python3"
  },
  "language_info": {
   "codemirror_mode": {
    "name": "ipython",
    "version": 2
   },
   "file_extension": ".py",
   "mimetype": "text/x-python",
   "name": "python",
   "nbconvert_exporter": "python",
   "pygments_lexer": "ipython2",
   "version": "2.7.6"
  }
 },
 "nbformat": 4,
 "nbformat_minor": 0
}
