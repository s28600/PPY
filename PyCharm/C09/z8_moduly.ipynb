{
 "cells": [
  {
   "cell_type": "markdown",
   "source": [
    "## Moduły"
   ],
   "metadata": {
    "collapsed": false
   },
   "id": "aaea30fb4a873421"
  },
  {
   "cell_type": "markdown",
   "source": [
    "### Uwaga do wyjątków\n",
    "* możemy podstawić przechwycony wyjątek do zmiennej\n",
    "* i np. wyświetlić komunikat wyjątku"
   ],
   "metadata": {
    "collapsed": false
   },
   "id": "2a034a55018edf93"
  },
  {
   "cell_type": "code",
   "outputs": [
    {
     "name": "stdout",
     "output_type": "stream",
     "text": [
      "division by zero\n"
     ]
    }
   ],
   "source": [
    "try:\n",
    "    1/0\n",
    "except ZeroDivisionError as e:\n",
    "    print(e)"
   ],
   "metadata": {
    "collapsed": false,
    "ExecuteTime": {
     "end_time": "2024-05-11T10:52:34.491942Z",
     "start_time": "2024-05-11T10:52:34.481744Z"
    }
   },
   "id": "a62041229c2ed175",
   "execution_count": 1
  },
  {
   "cell_type": "markdown",
   "source": [
    "### Moduły\n",
    "* służą do podziału projekty na mnijsze pliki\n",
    "* pozwalają na tworzenie własnych bibliotek"
   ],
   "metadata": {
    "collapsed": false
   },
   "id": "24018e866ce539ae"
  },
  {
   "cell_type": "markdown",
   "source": [
    "#### Pakiety "
   ],
   "metadata": {
    "collapsed": false
   },
   "id": "bd0e8b2f199f57d3"
  },
  {
   "cell_type": "code",
   "outputs": [],
   "source": [
    "# do importu wykorzystujemy polecenie import\n",
    "import random"
   ],
   "metadata": {
    "collapsed": false,
    "ExecuteTime": {
     "end_time": "2024-05-11T10:54:59.417201Z",
     "start_time": "2024-05-11T10:54:59.414301Z"
    }
   },
   "id": "a3c34f20ac7200c9",
   "execution_count": 5
  },
  {
   "cell_type": "code",
   "outputs": [
    {
     "data": {
      "text/plain": "7"
     },
     "execution_count": 6,
     "metadata": {},
     "output_type": "execute_result"
    }
   ],
   "source": [
    "# następnie do zawartości modułu odwołujemy się z kropką\n",
    "random.randint(1, 10)"
   ],
   "metadata": {
    "collapsed": false,
    "ExecuteTime": {
     "end_time": "2024-05-11T10:55:21.826558Z",
     "start_time": "2024-05-11T10:55:21.819826Z"
    }
   },
   "id": "797906313bc8f896",
   "execution_count": 6
  },
  {
   "cell_type": "code",
   "outputs": [],
   "source": [
    "# możemy importować tylko wybrane elementy modułu\n",
    "from random import randint"
   ],
   "metadata": {
    "collapsed": false,
    "ExecuteTime": {
     "end_time": "2024-05-11T10:55:53.307879Z",
     "start_time": "2024-05-11T10:55:53.304199Z"
    }
   },
   "id": "49de5ba2bf220256",
   "execution_count": 7
  },
  {
   "cell_type": "code",
   "outputs": [
    {
     "data": {
      "text/plain": "6"
     },
     "execution_count": 9,
     "metadata": {},
     "output_type": "execute_result"
    }
   ],
   "source": [
    "# w ten sposób odwołujemy się bez random.\n",
    "# ale uwaga na zaśmiecenie przestrzeni nazw\n",
    "randint(2, 10)"
   ],
   "metadata": {
    "collapsed": false,
    "ExecuteTime": {
     "end_time": "2024-05-11T10:56:42.722615Z",
     "start_time": "2024-05-11T10:56:42.715954Z"
    }
   },
   "id": "1172a2032a6e56a0",
   "execution_count": 9
  },
  {
   "cell_type": "code",
   "outputs": [],
   "source": [
    "# w ten sposób importujemy wszystko z modułu random\n",
    "# należy unikać - bardzo zaśmieca przestrzeń nazw\n",
    "from random import *"
   ],
   "metadata": {
    "collapsed": false,
    "ExecuteTime": {
     "end_time": "2024-05-11T10:57:59.875250Z",
     "start_time": "2024-05-11T10:57:59.872291Z"
    }
   },
   "id": "b538306ce03ceea2",
   "execution_count": 13
  },
  {
   "cell_type": "code",
   "outputs": [
    {
     "data": {
      "text/plain": "0.4679834994252373"
     },
     "execution_count": 11,
     "metadata": {},
     "output_type": "execute_result"
    }
   ],
   "source": [
    "uniform(0, 1)"
   ],
   "metadata": {
    "collapsed": false,
    "ExecuteTime": {
     "end_time": "2024-05-11T10:57:03.514449Z",
     "start_time": "2024-05-11T10:57:03.510161Z"
    }
   },
   "id": "a7121a466b5a64a1",
   "execution_count": 11
  },
  {
   "cell_type": "code",
   "outputs": [],
   "source": [
    "# możemy importować moduł nadając mu konkretną nazwę\n",
    "# często stosowane: import numpy as np, import pandas as pd, import matplotlib.pyplot as plt\n",
    "import random as rd"
   ],
   "metadata": {
    "collapsed": false,
    "ExecuteTime": {
     "end_time": "2024-05-11T10:58:30.892488Z",
     "start_time": "2024-05-11T10:58:30.888591Z"
    }
   },
   "id": "f8cc89a45001653",
   "execution_count": 14
  },
  {
   "cell_type": "code",
   "outputs": [
    {
     "data": {
      "text/plain": "6"
     },
     "execution_count": 15,
     "metadata": {},
     "output_type": "execute_result"
    }
   ],
   "source": [
    "rd.randint(0, 10)"
   ],
   "metadata": {
    "collapsed": false,
    "ExecuteTime": {
     "end_time": "2024-05-11T10:58:38.540272Z",
     "start_time": "2024-05-11T10:58:38.534205Z"
    }
   },
   "id": "82b7b7005f5c04de",
   "execution_count": 15
  },
  {
   "cell_type": "markdown",
   "source": [
    "### Instalacja zewnętrznych bibliotek\n",
    "* dodatkowe biblioteki instalujemy poleceniem (w terminalu): pip install nazwa_biblioteki\n",
    "* bibliotek można poszukiwać porzez https://pypi.org/\n",
    "* domyślnie w PyCharmie każdy projekt ma osobne środowisko wirtualne (venv), co pozwala unikać konfliktów pomiędzy wersjami bibliotek dla różnych projektów\n",
    "* otworzyć nowy projekt PyCharm i coś zainstalować"
   ],
   "metadata": {
    "collapsed": false
   },
   "id": "3ad09db39469db7e"
  },
  {
   "cell_type": "code",
   "outputs": [],
   "source": [
    "import joblib"
   ],
   "metadata": {
    "collapsed": false,
    "ExecuteTime": {
     "end_time": "2024-05-11T11:15:09.522895Z",
     "start_time": "2024-05-11T11:15:09.389485Z"
    }
   },
   "id": "1250cea15851eb9c",
   "execution_count": 19
  },
  {
   "cell_type": "code",
   "outputs": [],
   "source": [
    "d = {'a': 1, 'b': 2}"
   ],
   "metadata": {
    "collapsed": false,
    "ExecuteTime": {
     "end_time": "2024-05-11T11:18:51.574937Z",
     "start_time": "2024-05-11T11:18:51.570484Z"
    }
   },
   "id": "ac95263c0b8fd42f",
   "execution_count": 20
  },
  {
   "cell_type": "code",
   "outputs": [
    {
     "data": {
      "text/plain": "['d.json']"
     },
     "execution_count": 29,
     "metadata": {},
     "output_type": "execute_result"
    }
   ],
   "source": [
    "# zapis obiektu pythona do pliku\n",
    "joblib.dump(d, 'd.joblib')"
   ],
   "metadata": {
    "collapsed": false,
    "ExecuteTime": {
     "end_time": "2024-05-11T11:21:27.096083Z",
     "start_time": "2024-05-11T11:21:27.088076Z"
    }
   },
   "id": "d6c2e260c711632b",
   "execution_count": 29
  },
  {
   "cell_type": "code",
   "outputs": [],
   "source": [
    "# odczyt obiektu pythona z pliku\n",
    "loaded_data = joblib.load('d.joblib')"
   ],
   "metadata": {
    "collapsed": false,
    "ExecuteTime": {
     "end_time": "2024-05-11T11:21:28.554490Z",
     "start_time": "2024-05-11T11:21:28.548630Z"
    }
   },
   "id": "46d942f69c1de0bb",
   "execution_count": 30
  },
  {
   "cell_type": "code",
   "outputs": [
    {
     "data": {
      "text/plain": "{'a': 1, 'b': 2}"
     },
     "execution_count": 31,
     "metadata": {},
     "output_type": "execute_result"
    }
   ],
   "source": [
    "loaded_data"
   ],
   "metadata": {
    "collapsed": false,
    "ExecuteTime": {
     "end_time": "2024-05-11T11:21:29.238367Z",
     "start_time": "2024-05-11T11:21:29.233370Z"
    }
   },
   "id": "cb8c117d9d18fe29",
   "execution_count": 31
  },
  {
   "cell_type": "markdown",
   "source": [
    "### Własne moduły\n",
    "* w momencie importu plik modułu jest wykonywany - jeśli znajdują się tam inne rzeczy niż definicje funkcji i klas to one się \n",
    "* Moduł = plik Pythona"
   ],
   "metadata": {
    "collapsed": false
   },
   "id": "163ec717109ebf2d"
  },
  {
   "cell_type": "code",
   "outputs": [
    {
     "name": "stdout",
     "output_type": "stream",
     "text": [
      "aaa\n"
     ]
    }
   ],
   "source": [
    "import z8_m1"
   ],
   "metadata": {
    "collapsed": false,
    "ExecuteTime": {
     "end_time": "2024-05-11T11:28:45.753867Z",
     "start_time": "2024-05-11T11:28:45.745629Z"
    }
   },
   "id": "5e149ef30de8a123",
   "execution_count": 32
  },
  {
   "cell_type": "code",
   "outputs": [
    {
     "name": "stdout",
     "output_type": "stream",
     "text": [
      "4\n"
     ]
    }
   ],
   "source": [
    "z8_m1.fun(4)"
   ],
   "metadata": {
    "collapsed": false,
    "ExecuteTime": {
     "end_time": "2024-05-11T11:29:01.384647Z",
     "start_time": "2024-05-11T11:29:01.380195Z"
    }
   },
   "id": "c8966b6aa113c5cd",
   "execution_count": 33
  },
  {
   "cell_type": "markdown",
   "source": [
    "### Pakiety\n",
    "* Pakiet = folder\n",
    "* Zbiera moduły Pythona we wspólną przestrzeń nazw\n",
    "* Powinien zawierać specjalny plik __init__.py (od Pythona 3.3 nieobowiązkowo). W pliku init można wpisać kod potrzebny do inicjalizacji modułów oraz określić, co ma być udostępniane przy imporcie poprzez *"
   ],
   "metadata": {
    "collapsed": false
   },
   "id": "c1aa7fa72d429374"
  },
  {
   "cell_type": "code",
   "outputs": [],
   "source": [
    "from z8_pakiet import m2"
   ],
   "metadata": {
    "collapsed": false,
    "ExecuteTime": {
     "end_time": "2024-05-11T11:32:51.141712Z",
     "start_time": "2024-05-11T11:32:51.134316Z"
    }
   },
   "id": "98c538bb56888674",
   "execution_count": 34
  },
  {
   "cell_type": "code",
   "outputs": [
    {
     "name": "stdout",
     "output_type": "stream",
     "text": [
      "tu fun2\n"
     ]
    }
   ],
   "source": [
    "m2.fun2()"
   ],
   "metadata": {
    "collapsed": false,
    "ExecuteTime": {
     "end_time": "2024-05-11T11:32:56.124628Z",
     "start_time": "2024-05-11T11:32:56.120887Z"
    }
   },
   "id": "73f9844cab847848",
   "execution_count": 35
  },
  {
   "cell_type": "code",
   "outputs": [],
   "source": [
    "from z8_pakiet import *"
   ],
   "metadata": {
    "collapsed": false,
    "ExecuteTime": {
     "end_time": "2024-05-11T11:49:00.914616Z",
     "start_time": "2024-05-11T11:49:00.910333Z"
    }
   },
   "id": "353f8c44543428b6",
   "execution_count": 36
  },
  {
   "cell_type": "code",
   "outputs": [
    {
     "data": {
      "text/plain": "<module 'z8_pakiet.m2' from 'C:\\\\Users\\\\sztyb\\\\PycharmProjects\\\\ppy_z1\\\\z8_pakiet\\\\m2.py'>"
     },
     "execution_count": 39,
     "metadata": {},
     "output_type": "execute_result"
    }
   ],
   "source": [
    "m2"
   ],
   "metadata": {
    "collapsed": false,
    "ExecuteTime": {
     "end_time": "2024-05-11T11:49:33.369977Z",
     "start_time": "2024-05-11T11:49:33.365716Z"
    }
   },
   "id": "b32922a3a6da4101",
   "execution_count": 39
  },
  {
   "cell_type": "code",
   "outputs": [
    {
     "ename": "NameError",
     "evalue": "name 'm3_secret' is not defined",
     "output_type": "error",
     "traceback": [
      "\u001B[1;31m---------------------------------------------------------------------------\u001B[0m",
      "\u001B[1;31mNameError\u001B[0m                                 Traceback (most recent call last)",
      "Cell \u001B[1;32mIn[38], line 1\u001B[0m\n\u001B[1;32m----> 1\u001B[0m \u001B[43mm3_secret\u001B[49m\n",
      "\u001B[1;31mNameError\u001B[0m: name 'm3_secret' is not defined"
     ]
    }
   ],
   "source": [
    "m3_secret"
   ],
   "metadata": {
    "collapsed": false,
    "ExecuteTime": {
     "end_time": "2024-05-11T11:49:28.152847Z",
     "start_time": "2024-05-11T11:49:28.137588Z"
    }
   },
   "id": "569c3bd63344808b",
   "execution_count": 38
  },
  {
   "cell_type": "code",
   "outputs": [],
   "source": [
    "from z8_pakiet import m3_secret"
   ],
   "metadata": {
    "collapsed": false,
    "ExecuteTime": {
     "end_time": "2024-05-11T11:49:54.763822Z",
     "start_time": "2024-05-11T11:49:54.756333Z"
    }
   },
   "id": "564a1289605d5f70",
   "execution_count": 40
  },
  {
   "cell_type": "code",
   "outputs": [
    {
     "data": {
      "text/plain": "<module 'z8_pakiet.m3_secret' from 'C:\\\\Users\\\\sztyb\\\\PycharmProjects\\\\ppy_z1\\\\z8_pakiet\\\\m3_secret.py'>"
     },
     "execution_count": 41,
     "metadata": {},
     "output_type": "execute_result"
    }
   ],
   "source": [
    "m3_secret"
   ],
   "metadata": {
    "collapsed": false,
    "ExecuteTime": {
     "end_time": "2024-05-11T11:50:00.155806Z",
     "start_time": "2024-05-11T11:50:00.150497Z"
    }
   },
   "id": "5d9a71538858ce49",
   "execution_count": 41
  },
  {
   "cell_type": "markdown",
   "source": [
    "### Zadania"
   ],
   "metadata": {
    "collapsed": false
   },
   "id": "709c0438d91095e7"
  },
  {
   "cell_type": "markdown",
   "source": [
    "### Zadanie 1\n",
    "\n",
    "Utworzyć pakiet zakupy. \n",
    "1a) W pliku towar.py zdefiniować klasę Towar o polach (nazwa, cena jednostkowa)(dane przekazywane do konstruktora)\n",
    "1b) w pliku lista_zakupów zdefiniować klasę ListaZakupów, która będzie zawierać pola (lista, sumaryczna cena). Lista jest listą krotek: (Towar, liczba do kupienia). Zdefionować konstruktor przyjmujący początkową listę zakupów. Obiekt utworzony bez podania argumenu powienien zawierać pustą listę. Sumaryczną cenę inicjalizować zerem. Zdefiniować funkcję dodającą nowe towary do listy zakupów i aktualizującą cenę.\n",
    "1c) w pliku exceptions.py zdefiniować wyjątek BelowZero, który będzie podnoszony w przypadku wprowadzenia ceny lub ilości towarów mniejszej od zera. Wyjątek powinien zawierać odpowiedni komunikat (message).\n",
    "1d) W pliku main utworzyć listę zakupów z początkową wartością, wczytać dane kolejnego towaru i ilość do kupienia i dodać do listy zakupów. Wczytywać pętlą while aż do wczytannia odpowiednich danych. Wykorzystać wyjątek BelowZero oraz obsłużyć ValueError przy podaniu nieprawidłowego typu danych."
   ],
   "metadata": {
    "collapsed": false
   },
   "id": "8cec1ae2a73a8e5c"
  },
  {
   "cell_type": "markdown",
   "source": [
    "### Zadanie 2\n",
    "Jest już dostępna lista tematów projektów. Proszę się zapoznać."
   ],
   "metadata": {
    "collapsed": false
   },
   "id": "f4c7df0c27450092"
  },
  {
   "cell_type": "code",
   "outputs": [],
   "source": [],
   "metadata": {
    "collapsed": false
   },
   "id": "9a3fe9b68f6a8d80"
  }
 ],
 "metadata": {
  "kernelspec": {
   "display_name": "Python 3",
   "language": "python",
   "name": "python3"
  },
  "language_info": {
   "codemirror_mode": {
    "name": "ipython",
    "version": 2
   },
   "file_extension": ".py",
   "mimetype": "text/x-python",
   "name": "python",
   "nbconvert_exporter": "python",
   "pygments_lexer": "ipython2",
   "version": "2.7.6"
  }
 },
 "nbformat": 4,
 "nbformat_minor": 5
}
