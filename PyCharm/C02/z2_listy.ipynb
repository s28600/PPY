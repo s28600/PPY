{
 "cells": [
  {
   "cell_type": "markdown",
   "source": [
    "## Listy, krotki, zbiory, słowniki"
   ],
   "metadata": {
    "collapsed": false
   },
   "id": "804c8c7d51e00fe5"
  },
  {
   "cell_type": "markdown",
   "source": [
    "### Listy\n",
    "* lista uporządkowanych elementów (mogą być różnych typów)\n",
    "* indeksowane od 0\n",
    "* indeksujemy [od:do:krok] (od - włącznie, do wyłącznie)"
   ],
   "metadata": {
    "collapsed": false
   },
   "id": "14c6b0a7f5d13f70"
  },
  {
   "cell_type": "code",
   "outputs": [
    {
     "data": {
      "text/plain": "[1, 1.5, 'b', 'c']"
     },
     "execution_count": 1,
     "metadata": {},
     "output_type": "execute_result"
    }
   ],
   "source": [
    "l = [1, 1.5, 'b', 'c']\n",
    "l"
   ],
   "metadata": {
    "collapsed": false,
    "ExecuteTime": {
     "end_time": "2024-03-13T14:48:53.445230Z",
     "start_time": "2024-03-13T14:48:53.434706Z"
    }
   },
   "id": "f53517085867f5b3",
   "execution_count": 1
  },
  {
   "cell_type": "code",
   "outputs": [
    {
     "data": {
      "text/plain": "1"
     },
     "execution_count": 4,
     "metadata": {},
     "output_type": "execute_result"
    }
   ],
   "source": [
    "l[0]"
   ],
   "metadata": {
    "collapsed": false,
    "ExecuteTime": {
     "end_time": "2024-03-07T12:26:49.375116Z",
     "start_time": "2024-03-07T12:26:49.369156Z"
    }
   },
   "id": "16c6354afdd92b1a",
   "execution_count": 4
  },
  {
   "cell_type": "code",
   "outputs": [
    {
     "data": {
      "text/plain": "4"
     },
     "execution_count": 5,
     "metadata": {},
     "output_type": "execute_result"
    }
   ],
   "source": [
    "len(l)"
   ],
   "metadata": {
    "collapsed": false,
    "ExecuteTime": {
     "end_time": "2024-03-07T12:26:55.582560Z",
     "start_time": "2024-03-07T12:26:55.576433Z"
    }
   },
   "id": "22ef7d560bf924d0",
   "execution_count": 5
  },
  {
   "cell_type": "code",
   "outputs": [
    {
     "data": {
      "text/plain": "'c'"
     },
     "execution_count": 6,
     "metadata": {},
     "output_type": "execute_result"
    }
   ],
   "source": [
    "l[-1]"
   ],
   "metadata": {
    "collapsed": false,
    "ExecuteTime": {
     "end_time": "2024-03-07T12:27:18.397039Z",
     "start_time": "2024-03-07T12:27:18.390006Z"
    }
   },
   "id": "b5ff6a1b0d6c0563",
   "execution_count": 6
  },
  {
   "cell_type": "code",
   "outputs": [
    {
     "data": {
      "text/plain": "[0, 1, 2, 3, 4, 5, 6, 7, 8, 9]"
     },
     "execution_count": 81,
     "metadata": {},
     "output_type": "execute_result"
    }
   ],
   "source": [
    "lista = list(range(10))\n",
    "lista"
   ],
   "metadata": {
    "collapsed": false,
    "ExecuteTime": {
     "end_time": "2024-03-07T13:34:28.908668Z",
     "start_time": "2024-03-07T13:34:28.901888Z"
    }
   },
   "id": "40f1ede1ff76c72a",
   "execution_count": 81
  },
  {
   "cell_type": "code",
   "outputs": [
    {
     "data": {
      "text/plain": "45"
     },
     "execution_count": 13,
     "metadata": {},
     "output_type": "execute_result"
    }
   ],
   "source": [
    "sum(lista)"
   ],
   "metadata": {
    "collapsed": false,
    "ExecuteTime": {
     "end_time": "2024-03-07T12:29:29.579110Z",
     "start_time": "2024-03-07T12:29:29.572312Z"
    }
   },
   "id": "c59e4a73d46f4c2",
   "execution_count": 13
  },
  {
   "cell_type": "code",
   "outputs": [
    {
     "data": {
      "text/plain": "[1, 2, 3]"
     },
     "execution_count": 15,
     "metadata": {},
     "output_type": "execute_result"
    }
   ],
   "source": [
    "lista[1:4]"
   ],
   "metadata": {
    "collapsed": false,
    "ExecuteTime": {
     "end_time": "2024-03-07T12:29:46.807403Z",
     "start_time": "2024-03-07T12:29:46.800969Z"
    }
   },
   "id": "8d26d2fc93967be1",
   "execution_count": 15
  },
  {
   "cell_type": "code",
   "outputs": [
    {
     "data": {
      "text/plain": "[1, 3, 5, 7, 9]"
     },
     "execution_count": 17,
     "metadata": {},
     "output_type": "execute_result"
    }
   ],
   "source": [
    "lista[1::2]"
   ],
   "metadata": {
    "collapsed": false,
    "ExecuteTime": {
     "end_time": "2024-03-07T12:30:04.651950Z",
     "start_time": "2024-03-07T12:30:04.645167Z"
    }
   },
   "id": "f62c207a692bbb6d",
   "execution_count": 17
  },
  {
   "cell_type": "code",
   "outputs": [
    {
     "data": {
      "text/plain": "[9, 8, 7, 6, 5, 4, 3, 2, 1, 0]"
     },
     "execution_count": 18,
     "metadata": {},
     "output_type": "execute_result"
    }
   ],
   "source": [
    "lista[::-1]"
   ],
   "metadata": {
    "collapsed": false,
    "ExecuteTime": {
     "end_time": "2024-03-07T12:30:52.724819Z",
     "start_time": "2024-03-07T12:30:52.717093Z"
    }
   },
   "id": "4b49ee34ce0b653e",
   "execution_count": 18
  },
  {
   "cell_type": "code",
   "outputs": [
    {
     "data": {
      "text/plain": "[6, 7, 8]"
     },
     "execution_count": 82,
     "metadata": {},
     "output_type": "execute_result"
    }
   ],
   "source": [
    "lista[-4:-1]"
   ],
   "metadata": {
    "collapsed": false,
    "ExecuteTime": {
     "end_time": "2024-03-07T13:34:33.752437Z",
     "start_time": "2024-03-07T13:34:33.745493Z"
    }
   },
   "id": "9ac02cd3df5decb2",
   "execution_count": 82
  },
  {
   "cell_type": "code",
   "outputs": [
    {
     "data": {
      "text/plain": "[100, 1, 2, 3, 4, 5, 6, 7, 8, 9]"
     },
     "execution_count": 23,
     "metadata": {},
     "output_type": "execute_result"
    }
   ],
   "source": [
    "lista[0] = 100\n",
    "lista"
   ],
   "metadata": {
    "collapsed": false,
    "ExecuteTime": {
     "end_time": "2024-03-07T12:32:48.542861Z",
     "start_time": "2024-03-07T12:32:48.536617Z"
    }
   },
   "id": "d3fa8f437c713fed",
   "execution_count": 23
  },
  {
   "cell_type": "code",
   "outputs": [
    {
     "data": {
      "text/plain": "[100, 1, 2, 3, 4, 5, 6, 7, 8, 9, 1000]"
     },
     "execution_count": 25,
     "metadata": {},
     "output_type": "execute_result"
    }
   ],
   "source": [
    "lista.append(1000)\n",
    "lista"
   ],
   "metadata": {
    "collapsed": false,
    "ExecuteTime": {
     "end_time": "2024-03-07T12:33:26.789264Z",
     "start_time": "2024-03-07T12:33:26.783310Z"
    }
   },
   "id": "bac5962d4e1ffb05",
   "execution_count": 25
  },
  {
   "cell_type": "code",
   "outputs": [
    {
     "data": {
      "text/plain": "['p', 'y', 't', 'h', 'o', 'n']"
     },
     "execution_count": 83,
     "metadata": {},
     "output_type": "execute_result"
    }
   ],
   "source": [
    "list('python')"
   ],
   "metadata": {
    "collapsed": false,
    "ExecuteTime": {
     "end_time": "2024-03-07T13:35:21.415994Z",
     "start_time": "2024-03-07T13:35:21.410483Z"
    }
   },
   "id": "b16e85f1f7924ad9",
   "execution_count": 83
  },
  {
   "cell_type": "code",
   "outputs": [
    {
     "data": {
      "text/plain": "['__add__',\n '__class__',\n '__class_getitem__',\n '__contains__',\n '__delattr__',\n '__delitem__',\n '__dir__',\n '__doc__',\n '__eq__',\n '__format__',\n '__ge__',\n '__getattribute__',\n '__getitem__',\n '__getstate__',\n '__gt__',\n '__hash__',\n '__iadd__',\n '__imul__',\n '__init__',\n '__init_subclass__',\n '__iter__',\n '__le__',\n '__len__',\n '__lt__',\n '__mul__',\n '__ne__',\n '__new__',\n '__reduce__',\n '__reduce_ex__',\n '__repr__',\n '__reversed__',\n '__rmul__',\n '__setattr__',\n '__setitem__',\n '__sizeof__',\n '__str__',\n '__subclasshook__',\n 'append',\n 'clear',\n 'copy',\n 'count',\n 'extend',\n 'index',\n 'insert',\n 'pop',\n 'remove',\n 'reverse',\n 'sort']"
     },
     "execution_count": 26,
     "metadata": {},
     "output_type": "execute_result"
    }
   ],
   "source": [
    "dir(list)"
   ],
   "metadata": {
    "collapsed": false,
    "ExecuteTime": {
     "end_time": "2024-03-07T12:34:37.804714Z",
     "start_time": "2024-03-07T12:34:37.796944Z"
    }
   },
   "id": "3bb24d3fcef2e299",
   "execution_count": 26
  },
  {
   "cell_type": "code",
   "outputs": [
    {
     "name": "stdout",
     "output_type": "stream",
     "text": [
      "Help on method_descriptor:\n",
      "\n",
      "count(self, value, /)\n",
      "    Return number of occurrences of value.\n"
     ]
    }
   ],
   "source": [
    "help(list.count)"
   ],
   "metadata": {
    "collapsed": false,
    "ExecuteTime": {
     "end_time": "2024-03-07T12:34:59.758175Z",
     "start_time": "2024-03-07T12:34:59.751256Z"
    }
   },
   "id": "cae2c777451627e6",
   "execution_count": 27
  },
  {
   "cell_type": "code",
   "outputs": [
    {
     "name": "stdout",
     "output_type": "stream",
     "text": [
      "0\n",
      "1\n",
      "2\n",
      "3\n",
      "4\n",
      "5\n",
      "6\n",
      "7\n",
      "8\n",
      "9\n"
     ]
    }
   ],
   "source": [
    "# bonusowo for (do zadań)\n",
    "for i in range(10):\n",
    "    print(i)"
   ],
   "metadata": {
    "collapsed": false,
    "ExecuteTime": {
     "end_time": "2024-03-07T13:24:33.109268Z",
     "start_time": "2024-03-07T13:24:33.102840Z"
    }
   },
   "id": "8b5386bef3b5d7e3",
   "execution_count": 75
  },
  {
   "cell_type": "code",
   "outputs": [
    {
     "name": "stdout",
     "output_type": "stream",
     "text": [
      "a\n",
      "b\n",
      "c\n"
     ]
    }
   ],
   "source": [
    "for i in ['a', 'b', 'c']:\n",
    "    print(i)"
   ],
   "metadata": {
    "collapsed": false,
    "ExecuteTime": {
     "end_time": "2024-03-07T13:14:51.738710Z",
     "start_time": "2024-03-07T13:14:51.733289Z"
    }
   },
   "id": "64d25541831ee406",
   "execution_count": 71
  },
  {
   "cell_type": "code",
   "outputs": [
    {
     "name": "stdout",
     "output_type": "stream",
     "text": [
      "0\n",
      "2\n",
      "4\n",
      "6\n",
      "8\n"
     ]
    }
   ],
   "source": [
    "for i in range(10):\n",
    "    if i % 2 == 0:\n",
    "        print(i)"
   ],
   "metadata": {
    "collapsed": false,
    "ExecuteTime": {
     "end_time": "2024-03-07T13:15:18.695518Z",
     "start_time": "2024-03-07T13:15:18.690205Z"
    }
   },
   "id": "9b5003a6a4d3fbcf",
   "execution_count": 72
  },
  {
   "cell_type": "code",
   "outputs": [
    {
     "data": {
      "text/plain": "[[1, 2], [3, 4]]"
     },
     "execution_count": 73,
     "metadata": {},
     "output_type": "execute_result"
    }
   ],
   "source": [
    "# zagnieżdżenia\n",
    "l2 = [[1, 2], [3, 4]]\n",
    "l2"
   ],
   "metadata": {
    "collapsed": false,
    "ExecuteTime": {
     "end_time": "2024-03-07T13:23:03.348839Z",
     "start_time": "2024-03-07T13:23:03.342244Z"
    }
   },
   "id": "f0ec0eb9a555e913",
   "execution_count": 73
  },
  {
   "cell_type": "code",
   "outputs": [
    {
     "data": {
      "text/plain": "2"
     },
     "execution_count": 74,
     "metadata": {},
     "output_type": "execute_result"
    }
   ],
   "source": [
    "l2[0][1]"
   ],
   "metadata": {
    "collapsed": false,
    "ExecuteTime": {
     "end_time": "2024-03-07T13:23:16.218479Z",
     "start_time": "2024-03-07T13:23:16.211988Z"
    }
   },
   "id": "daab5794b0547c9b",
   "execution_count": 74
  },
  {
   "cell_type": "markdown",
   "source": [
    "### Krotki (tuple)\n",
    "* niemutowalne\n",
    "* indeksowanie jak dla list"
   ],
   "metadata": {
    "collapsed": false
   },
   "id": "816904de29d2a3ea"
  },
  {
   "cell_type": "code",
   "outputs": [
    {
     "data": {
      "text/plain": "(1, 1.5, 'a')"
     },
     "execution_count": 28,
     "metadata": {},
     "output_type": "execute_result"
    }
   ],
   "source": [
    "t = (1, 1.5, 'a')\n",
    "t"
   ],
   "metadata": {
    "collapsed": false,
    "ExecuteTime": {
     "end_time": "2024-03-07T12:37:07.528031Z",
     "start_time": "2024-03-07T12:37:07.522081Z"
    }
   },
   "id": "8be0aea874a11e2f",
   "execution_count": 28
  },
  {
   "cell_type": "code",
   "outputs": [
    {
     "data": {
      "text/plain": "tuple"
     },
     "execution_count": 30,
     "metadata": {},
     "output_type": "execute_result"
    }
   ],
   "source": [
    "type(t)"
   ],
   "metadata": {
    "collapsed": false,
    "ExecuteTime": {
     "end_time": "2024-03-07T12:37:19.382990Z",
     "start_time": "2024-03-07T12:37:19.377460Z"
    }
   },
   "id": "4075870145b6ffdb",
   "execution_count": 30
  },
  {
   "cell_type": "code",
   "outputs": [
    {
     "ename": "TypeError",
     "evalue": "'tuple' object does not support item assignment",
     "output_type": "error",
     "traceback": [
      "\u001B[1;31m---------------------------------------------------------------------------\u001B[0m",
      "\u001B[1;31mTypeError\u001B[0m                                 Traceback (most recent call last)",
      "Cell \u001B[1;32mIn[31], line 1\u001B[0m\n\u001B[1;32m----> 1\u001B[0m \u001B[43mt\u001B[49m\u001B[43m[\u001B[49m\u001B[38;5;241;43m0\u001B[39;49m\u001B[43m]\u001B[49m \u001B[38;5;241m=\u001B[39m \u001B[38;5;241m0\u001B[39m\n",
      "\u001B[1;31mTypeError\u001B[0m: 'tuple' object does not support item assignment"
     ]
    }
   ],
   "source": [
    "t[0] = 0"
   ],
   "metadata": {
    "collapsed": false,
    "ExecuteTime": {
     "end_time": "2024-03-07T12:37:27.408068Z",
     "start_time": "2024-03-07T12:37:27.389470Z"
    }
   },
   "id": "48a38a49ecac388a",
   "execution_count": 31
  },
  {
   "cell_type": "code",
   "outputs": [
    {
     "data": {
      "text/plain": "('a', 1.5, 1)"
     },
     "execution_count": 32,
     "metadata": {},
     "output_type": "execute_result"
    }
   ],
   "source": [
    "t[::-1]"
   ],
   "metadata": {
    "collapsed": false,
    "ExecuteTime": {
     "end_time": "2024-03-07T12:37:37.843966Z",
     "start_time": "2024-03-07T12:37:37.837810Z"
    }
   },
   "id": "ce017ca15ed64008",
   "execution_count": 32
  },
  {
   "cell_type": "code",
   "outputs": [
    {
     "data": {
      "text/plain": "['__add__',\n '__class__',\n '__class_getitem__',\n '__contains__',\n '__delattr__',\n '__dir__',\n '__doc__',\n '__eq__',\n '__format__',\n '__ge__',\n '__getattribute__',\n '__getitem__',\n '__getnewargs__',\n '__getstate__',\n '__gt__',\n '__hash__',\n '__init__',\n '__init_subclass__',\n '__iter__',\n '__le__',\n '__len__',\n '__lt__',\n '__mul__',\n '__ne__',\n '__new__',\n '__reduce__',\n '__reduce_ex__',\n '__repr__',\n '__rmul__',\n '__setattr__',\n '__sizeof__',\n '__str__',\n '__subclasshook__',\n 'count',\n 'index']"
     },
     "execution_count": 33,
     "metadata": {},
     "output_type": "execute_result"
    }
   ],
   "source": [
    "dir(tuple)"
   ],
   "metadata": {
    "collapsed": false,
    "ExecuteTime": {
     "end_time": "2024-03-07T12:38:03.054262Z",
     "start_time": "2024-03-07T12:38:03.046734Z"
    }
   },
   "id": "84c40ada149fb9b9",
   "execution_count": 33
  },
  {
   "cell_type": "markdown",
   "source": [
    "### Słowniki\n",
    "* pary klucz - wartość\n",
    "* klucze NIE są uporządkowane (nie możemy mówić np. o pierwszym elemencie słownika)"
   ],
   "metadata": {
    "collapsed": false
   },
   "id": "ab79da4178165b5f"
  },
  {
   "cell_type": "code",
   "outputs": [
    {
     "data": {
      "text/plain": "{'a': 0, 'b': 1}"
     },
     "execution_count": 41,
     "metadata": {},
     "output_type": "execute_result"
    }
   ],
   "source": [
    "d = {'a': 0, 'b': 1}\n",
    "d"
   ],
   "metadata": {
    "collapsed": false,
    "ExecuteTime": {
     "end_time": "2024-03-07T12:41:13.867818Z",
     "start_time": "2024-03-07T12:41:13.861300Z"
    }
   },
   "id": "f8bf3c1415bb5fad",
   "execution_count": 41
  },
  {
   "cell_type": "code",
   "outputs": [
    {
     "data": {
      "text/plain": "dict"
     },
     "execution_count": 37,
     "metadata": {},
     "output_type": "execute_result"
    }
   ],
   "source": [
    "type(d)"
   ],
   "metadata": {
    "collapsed": false,
    "ExecuteTime": {
     "end_time": "2024-03-07T12:40:44.243332Z",
     "start_time": "2024-03-07T12:40:44.236250Z"
    }
   },
   "id": "18ec9b1c38b33266",
   "execution_count": 37
  },
  {
   "cell_type": "code",
   "outputs": [
    {
     "data": {
      "text/plain": "0"
     },
     "execution_count": 42,
     "metadata": {},
     "output_type": "execute_result"
    }
   ],
   "source": [
    "d['a']"
   ],
   "metadata": {
    "collapsed": false,
    "ExecuteTime": {
     "end_time": "2024-03-07T12:41:16.429856Z",
     "start_time": "2024-03-07T12:41:16.422036Z"
    }
   },
   "id": "7127a8a5c30e8cd0",
   "execution_count": 42
  },
  {
   "cell_type": "code",
   "outputs": [
    {
     "data": {
      "text/plain": "{'a': 2, 'b': 1}"
     },
     "execution_count": 43,
     "metadata": {},
     "output_type": "execute_result"
    }
   ],
   "source": [
    "d['a'] = 2\n",
    "d"
   ],
   "metadata": {
    "collapsed": false,
    "ExecuteTime": {
     "end_time": "2024-03-07T12:41:17.187079Z",
     "start_time": "2024-03-07T12:41:17.180878Z"
    }
   },
   "id": "6734214c4cdb1013",
   "execution_count": 43
  },
  {
   "cell_type": "code",
   "outputs": [
    {
     "data": {
      "text/plain": "{'a': 2, 'b': 1, 'c': 3}"
     },
     "execution_count": 44,
     "metadata": {},
     "output_type": "execute_result"
    }
   ],
   "source": [
    "d['c'] = 3\n",
    "d"
   ],
   "metadata": {
    "collapsed": false,
    "ExecuteTime": {
     "end_time": "2024-03-07T12:41:30.601780Z",
     "start_time": "2024-03-07T12:41:30.595571Z"
    }
   },
   "id": "341c0ef1f82c663e",
   "execution_count": 44
  },
  {
   "cell_type": "code",
   "outputs": [
    {
     "data": {
      "text/plain": "dict_items([('a', 2), ('b', 1), ('c', 3)])"
     },
     "execution_count": 46,
     "metadata": {},
     "output_type": "execute_result"
    }
   ],
   "source": [
    "d.items()"
   ],
   "metadata": {
    "collapsed": false,
    "ExecuteTime": {
     "end_time": "2024-03-07T12:41:55.775391Z",
     "start_time": "2024-03-07T12:41:55.769255Z"
    }
   },
   "id": "fa02ca16160c63f7",
   "execution_count": 46
  },
  {
   "cell_type": "code",
   "outputs": [
    {
     "data": {
      "text/plain": "dict_keys(['a', 'b', 'c'])"
     },
     "execution_count": 47,
     "metadata": {},
     "output_type": "execute_result"
    }
   ],
   "source": [
    "d.keys()"
   ],
   "metadata": {
    "collapsed": false,
    "ExecuteTime": {
     "end_time": "2024-03-07T12:42:03.274068Z",
     "start_time": "2024-03-07T12:42:03.268703Z"
    }
   },
   "id": "9c805d3a4d424976",
   "execution_count": 47
  },
  {
   "cell_type": "code",
   "outputs": [
    {
     "data": {
      "text/plain": "False"
     },
     "execution_count": 48,
     "metadata": {},
     "output_type": "execute_result"
    }
   ],
   "source": [
    "'d' in d.keys()"
   ],
   "metadata": {
    "collapsed": false,
    "ExecuteTime": {
     "end_time": "2024-03-07T12:42:16.406968Z",
     "start_time": "2024-03-07T12:42:16.395476Z"
    }
   },
   "id": "f5687914c35db8b6",
   "execution_count": 48
  },
  {
   "cell_type": "code",
   "outputs": [
    {
     "ename": "KeyError",
     "evalue": "'d'",
     "output_type": "error",
     "traceback": [
      "\u001B[1;31m---------------------------------------------------------------------------\u001B[0m",
      "\u001B[1;31mKeyError\u001B[0m                                  Traceback (most recent call last)",
      "Cell \u001B[1;32mIn[51], line 1\u001B[0m\n\u001B[1;32m----> 1\u001B[0m \u001B[43md\u001B[49m\u001B[43m[\u001B[49m\u001B[38;5;124;43m'\u001B[39;49m\u001B[38;5;124;43md\u001B[39;49m\u001B[38;5;124;43m'\u001B[39;49m\u001B[43m]\u001B[49m\n",
      "\u001B[1;31mKeyError\u001B[0m: 'd'"
     ]
    }
   ],
   "source": [
    "d['d']"
   ],
   "metadata": {
    "collapsed": false,
    "ExecuteTime": {
     "end_time": "2024-03-07T12:43:01.658050Z",
     "start_time": "2024-03-07T12:43:01.639929Z"
    }
   },
   "id": "2766c36d6ad565f4",
   "execution_count": 51
  },
  {
   "cell_type": "code",
   "outputs": [
    {
     "data": {
      "text/plain": "2"
     },
     "execution_count": 49,
     "metadata": {},
     "output_type": "execute_result"
    }
   ],
   "source": [
    "d.get('a')"
   ],
   "metadata": {
    "collapsed": false,
    "ExecuteTime": {
     "end_time": "2024-03-07T12:42:32.202073Z",
     "start_time": "2024-03-07T12:42:32.196397Z"
    }
   },
   "id": "2194b451067e0667",
   "execution_count": 49
  },
  {
   "cell_type": "code",
   "outputs": [],
   "source": [
    "d.get('d')"
   ],
   "metadata": {
    "collapsed": false,
    "ExecuteTime": {
     "end_time": "2024-03-07T12:42:38.590342Z",
     "start_time": "2024-03-07T12:42:38.585889Z"
    }
   },
   "id": "996f2de45a2a5509",
   "execution_count": 50
  },
  {
   "cell_type": "code",
   "outputs": [
    {
     "data": {
      "text/plain": "0"
     },
     "execution_count": 52,
     "metadata": {},
     "output_type": "execute_result"
    }
   ],
   "source": [
    "d.get('d', 0)"
   ],
   "metadata": {
    "collapsed": false,
    "ExecuteTime": {
     "end_time": "2024-03-07T12:43:15.531946Z",
     "start_time": "2024-03-07T12:43:15.524848Z"
    }
   },
   "id": "295f2b768b3d1a7d",
   "execution_count": 52
  },
  {
   "cell_type": "code",
   "outputs": [
    {
     "data": {
      "text/plain": "['__class__',\n '__class_getitem__',\n '__contains__',\n '__delattr__',\n '__delitem__',\n '__dir__',\n '__doc__',\n '__eq__',\n '__format__',\n '__ge__',\n '__getattribute__',\n '__getitem__',\n '__getstate__',\n '__gt__',\n '__hash__',\n '__init__',\n '__init_subclass__',\n '__ior__',\n '__iter__',\n '__le__',\n '__len__',\n '__lt__',\n '__ne__',\n '__new__',\n '__or__',\n '__reduce__',\n '__reduce_ex__',\n '__repr__',\n '__reversed__',\n '__ror__',\n '__setattr__',\n '__setitem__',\n '__sizeof__',\n '__str__',\n '__subclasshook__',\n 'clear',\n 'copy',\n 'fromkeys',\n 'get',\n 'items',\n 'keys',\n 'pop',\n 'popitem',\n 'setdefault',\n 'update',\n 'values']"
     },
     "execution_count": 53,
     "metadata": {},
     "output_type": "execute_result"
    }
   ],
   "source": [
    "dir(d)"
   ],
   "metadata": {
    "collapsed": false,
    "ExecuteTime": {
     "end_time": "2024-03-07T12:43:20.810743Z",
     "start_time": "2024-03-07T12:43:20.803265Z"
    }
   },
   "id": "f1b3aafbb5702222",
   "execution_count": 53
  },
  {
   "cell_type": "markdown",
   "source": [
    "### Zbiory\n",
    "* unikalne elementy"
   ],
   "metadata": {
    "collapsed": false
   },
   "id": "6c51e13a2217c093"
  },
  {
   "cell_type": "code",
   "outputs": [
    {
     "data": {
      "text/plain": "{1, 2, 3}"
     },
     "execution_count": 55,
     "metadata": {},
     "output_type": "execute_result"
    }
   ],
   "source": [
    "s = {1, 2, 3, 3}\n",
    "s"
   ],
   "metadata": {
    "collapsed": false,
    "ExecuteTime": {
     "end_time": "2024-03-07T12:44:23.370964Z",
     "start_time": "2024-03-07T12:44:23.364535Z"
    }
   },
   "id": "1d3b599a04e6077b",
   "execution_count": 55
  },
  {
   "cell_type": "code",
   "outputs": [
    {
     "data": {
      "text/plain": "dict"
     },
     "execution_count": 56,
     "metadata": {},
     "output_type": "execute_result"
    }
   ],
   "source": [
    "# uwaga!\n",
    "s1 = {}\n",
    "type(s1)"
   ],
   "metadata": {
    "collapsed": false,
    "ExecuteTime": {
     "end_time": "2024-03-07T12:44:50.996797Z",
     "start_time": "2024-03-07T12:44:50.990838Z"
    }
   },
   "id": "409ceb9014909858",
   "execution_count": 56
  },
  {
   "cell_type": "code",
   "outputs": [
    {
     "data": {
      "text/plain": "set"
     },
     "execution_count": 57,
     "metadata": {},
     "output_type": "execute_result"
    }
   ],
   "source": [
    "# pusty zbiór robimy tak\n",
    "s1 = set()\n",
    "type(s1)"
   ],
   "metadata": {
    "collapsed": false,
    "ExecuteTime": {
     "end_time": "2024-03-07T12:45:12.937989Z",
     "start_time": "2024-03-07T12:45:12.930982Z"
    }
   },
   "id": "f33f3e1aa56f99a4",
   "execution_count": 57
  },
  {
   "cell_type": "code",
   "outputs": [
    {
     "data": {
      "text/plain": "{1, 2, 3, 5}"
     },
     "execution_count": 58,
     "metadata": {},
     "output_type": "execute_result"
    }
   ],
   "source": [
    "s.add(5)\n",
    "s"
   ],
   "metadata": {
    "collapsed": false,
    "ExecuteTime": {
     "end_time": "2024-03-07T12:45:29.715815Z",
     "start_time": "2024-03-07T12:45:29.709906Z"
    }
   },
   "id": "a33b12b4ebf62a87",
   "execution_count": 58
  },
  {
   "cell_type": "code",
   "outputs": [],
   "source": [
    "s2 = {5, 6}"
   ],
   "metadata": {
    "collapsed": false,
    "ExecuteTime": {
     "end_time": "2024-03-07T12:45:46.254019Z",
     "start_time": "2024-03-07T12:45:46.250318Z"
    }
   },
   "id": "a81e3e77d7c84f54",
   "execution_count": 59
  },
  {
   "cell_type": "code",
   "outputs": [
    {
     "data": {
      "text/plain": "{5, 6}"
     },
     "execution_count": 60,
     "metadata": {},
     "output_type": "execute_result"
    }
   ],
   "source": [
    "s1.union(s2)"
   ],
   "metadata": {
    "collapsed": false,
    "ExecuteTime": {
     "end_time": "2024-03-07T12:45:53.675412Z",
     "start_time": "2024-03-07T12:45:53.668702Z"
    }
   },
   "id": "475eea3966ba034",
   "execution_count": 60
  },
  {
   "cell_type": "code",
   "outputs": [
    {
     "data": {
      "text/plain": "{5}"
     },
     "execution_count": 62,
     "metadata": {},
     "output_type": "execute_result"
    }
   ],
   "source": [
    "s.intersection(s2)"
   ],
   "metadata": {
    "collapsed": false,
    "ExecuteTime": {
     "end_time": "2024-03-07T12:46:05.538742Z",
     "start_time": "2024-03-07T12:46:05.532303Z"
    }
   },
   "id": "dea815f1616ce51a",
   "execution_count": 62
  },
  {
   "cell_type": "code",
   "outputs": [
    {
     "data": {
      "text/plain": "{5}"
     },
     "execution_count": 63,
     "metadata": {},
     "output_type": "execute_result"
    }
   ],
   "source": [
    "s & s2"
   ],
   "metadata": {
    "collapsed": false,
    "ExecuteTime": {
     "end_time": "2024-03-07T12:46:15.811188Z",
     "start_time": "2024-03-07T12:46:15.805147Z"
    }
   },
   "id": "195d0cb5b62bf4c4",
   "execution_count": 63
  },
  {
   "cell_type": "code",
   "outputs": [
    {
     "data": {
      "text/plain": "{1, 2, 3, 5, 6}"
     },
     "execution_count": 64,
     "metadata": {},
     "output_type": "execute_result"
    }
   ],
   "source": [
    "s | s2"
   ],
   "metadata": {
    "collapsed": false,
    "ExecuteTime": {
     "end_time": "2024-03-07T12:46:22.144455Z",
     "start_time": "2024-03-07T12:46:22.137888Z"
    }
   },
   "id": "7bbb9cc422b4edda",
   "execution_count": 64
  },
  {
   "cell_type": "code",
   "outputs": [
    {
     "data": {
      "text/plain": "{1, 2, 3}"
     },
     "execution_count": 77,
     "metadata": {},
     "output_type": "execute_result"
    }
   ],
   "source": [
    "s - s2"
   ],
   "metadata": {
    "collapsed": false,
    "ExecuteTime": {
     "end_time": "2024-03-07T13:27:12.280024Z",
     "start_time": "2024-03-07T13:27:12.272957Z"
    }
   },
   "id": "4c40c7a0e1c51c59",
   "execution_count": 77
  },
  {
   "cell_type": "code",
   "outputs": [
    {
     "data": {
      "text/plain": "['__and__',\n '__class__',\n '__class_getitem__',\n '__contains__',\n '__delattr__',\n '__dir__',\n '__doc__',\n '__eq__',\n '__format__',\n '__ge__',\n '__getattribute__',\n '__getstate__',\n '__gt__',\n '__hash__',\n '__iand__',\n '__init__',\n '__init_subclass__',\n '__ior__',\n '__isub__',\n '__iter__',\n '__ixor__',\n '__le__',\n '__len__',\n '__lt__',\n '__ne__',\n '__new__',\n '__or__',\n '__rand__',\n '__reduce__',\n '__reduce_ex__',\n '__repr__',\n '__ror__',\n '__rsub__',\n '__rxor__',\n '__setattr__',\n '__sizeof__',\n '__str__',\n '__sub__',\n '__subclasshook__',\n '__xor__',\n 'add',\n 'clear',\n 'copy',\n 'difference',\n 'difference_update',\n 'discard',\n 'intersection',\n 'intersection_update',\n 'isdisjoint',\n 'issubset',\n 'issuperset',\n 'pop',\n 'remove',\n 'symmetric_difference',\n 'symmetric_difference_update',\n 'union',\n 'update']"
     },
     "execution_count": 65,
     "metadata": {},
     "output_type": "execute_result"
    }
   ],
   "source": [
    "dir(set)"
   ],
   "metadata": {
    "collapsed": false,
    "ExecuteTime": {
     "end_time": "2024-03-07T12:46:26.883477Z",
     "start_time": "2024-03-07T12:46:26.877482Z"
    }
   },
   "id": "654b2da18eabcddf",
   "execution_count": 65
  },
  {
   "cell_type": "markdown",
   "source": [
    "### Liczby losowe \n",
    "(do zadań)"
   ],
   "metadata": {
    "collapsed": false
   },
   "id": "53ccbcf49bb66888"
  },
  {
   "cell_type": "code",
   "outputs": [
    {
     "data": {
      "text/plain": "25"
     },
     "execution_count": 69,
     "metadata": {},
     "output_type": "execute_result"
    }
   ],
   "source": [
    "import random\n",
    "random.randint(0, 100)"
   ],
   "metadata": {
    "collapsed": false,
    "ExecuteTime": {
     "end_time": "2024-03-07T12:56:14.653170Z",
     "start_time": "2024-03-07T12:56:14.646748Z"
    }
   },
   "id": "49e4c7ac345860c8",
   "execution_count": 69
  },
  {
   "cell_type": "markdown",
   "source": [
    "### Zadanie 1\n",
    "Zdefiniować listę zawierającą liczby podzielne przez 5 z zakresu <0, 100> (łącznie z 0 i 100) (korzystając z range, range(od, do, krok), wydrukować\n",
    "* wydrukować listę od końca\n",
    "* wydrukować co drugi element listy, rozpoczynając od 5\n",
    "* wydrukować pierwszą połowę listy\n",
    "* policzyć średnią arytmetyczną liczb na liście \n",
    "* usunąć z listy liczbę 90\n",
    "* zamienić miejscami pierwszy i ostatni element listy\n",
    "* utworzyć z tej listy krotkę\n",
    "* przypisać do zmiennych drugi i przedostatni element krotki"
   ],
   "metadata": {
    "collapsed": false
   },
   "id": "56b2fe7f84c78021"
  },
  {
   "cell_type": "code",
   "outputs": [],
   "source": [],
   "metadata": {
    "collapsed": false,
    "ExecuteTime": {
     "end_time": "2024-03-07T12:51:22.949913Z",
     "start_time": "2024-03-07T12:51:22.946566Z"
    }
   },
   "id": "2e3e9abaaee7289d",
   "execution_count": 67
  },
  {
   "cell_type": "markdown",
   "source": [
    "### Zadanie 2\n",
    "Utworzyć dwie listy, zawierające liczby losowe całkowite z zakresu od 0 do 10. Pierwsza lista ma mieć 5 elementów, a druga 10. Wydrukować obie listy. Wykorzystać random.randint, pętlę for oraz append.\n",
    "* Wyświetlić unikalne elementy na obu listach łącznie (wskazówka: wykorzystać zbiory)\n",
    "* Wyświetlić elementy, które znajdują się na drugiej liście, ale nie znajdują się na pierwszej (wykorzystać zbiory)"
   ],
   "metadata": {
    "collapsed": false
   },
   "id": "781f0b225e7daf9d"
  },
  {
   "cell_type": "code",
   "outputs": [],
   "source": [],
   "metadata": {
    "collapsed": false,
    "ExecuteTime": {
     "end_time": "2024-03-07T13:00:47.163866Z",
     "start_time": "2024-03-07T13:00:47.159830Z"
    }
   },
   "id": "5f092db7ba6b8891",
   "execution_count": 69
  },
  {
   "cell_type": "markdown",
   "source": [
    "### Zadanie 3\n",
    "Utworzyć listę zawierającą 100 losowych liczb z zakresu <0, 10> (0 i 10 włącznie). Wydrukować.\n",
    "* Utworzyć słownik, zawierający pod kluczem i liczbę wystąpień liczby i na liście (wskazówka: wykorzystać pętlę for i count)"
   ],
   "metadata": {
    "collapsed": false
   },
   "id": "f22c808a167d548"
  },
  {
   "cell_type": "code",
   "outputs": [],
   "source": [],
   "metadata": {
    "collapsed": false,
    "ExecuteTime": {
     "end_time": "2024-03-07T13:03:13.837615Z",
     "start_time": "2024-03-07T13:03:13.834787Z"
    }
   },
   "id": "345a8d8e7d426e5b",
   "execution_count": 70
  },
  {
   "cell_type": "markdown",
   "source": [
    "### Zadanie 4\n",
    "Utworzyć dwa słowniki: ceny i lista_zakupów. W słowniku cen kluczami są towary, a wartościami ceny jednostkowe (np. {'jablka': 2.5, 'czekolada': 10}). W słowniku zakupów kluczami są towary, a wartościami liczba produktów do kupienia.\n",
    "* Wczytać (input) dane dodatkowego towaru i ilość do kupienia i dodać do listy zakupów\n",
    "* Znaleźć klucze, które występują w obu słownikach\n",
    "* Policzyć całkowitą cenę dla listy zakupów (pomnożyć dla każdego produktu cena x liczba produktów do kupienia). Należy zliczyć tylko produkty znajdujące się w odbu słownikach."
   ],
   "metadata": {
    "collapsed": false
   },
   "id": "a275f4423cc2c86b"
  },
  {
   "cell_type": "code",
   "outputs": [],
   "source": [],
   "metadata": {
    "collapsed": false
   },
   "id": "6abd13b404332728"
  },
  {
   "cell_type": "markdown",
   "source": [
    "### Zadanie 5\n",
    "Utwórz listę słowników, gdzie każdy słownik opisuje ksiązkę (autor, tytuł, rok wydania). Wydrukuj.\n",
    "* Wyświetl autora drugiej (o indeksie 1) ksiązki na liście\n",
    "* Wyszukaj i wydrukuj wszystkie ksiązki danego autora (wykorzystać for i if)\n"
   ],
   "metadata": {
    "collapsed": false
   },
   "id": "cca421e126869668"
  },
  {
   "cell_type": "code",
   "outputs": [],
   "source": [],
   "metadata": {
    "collapsed": false
   },
   "id": "304479c48abe9d6b"
  }
 ],
 "metadata": {
  "kernelspec": {
   "display_name": "Python 3",
   "language": "python",
   "name": "python3"
  },
  "language_info": {
   "codemirror_mode": {
    "name": "ipython",
    "version": 2
   },
   "file_extension": ".py",
   "mimetype": "text/x-python",
   "name": "python",
   "nbconvert_exporter": "python",
   "pygments_lexer": "ipython2",
   "version": "2.7.6"
  }
 },
 "nbformat": 4,
 "nbformat_minor": 5
}
