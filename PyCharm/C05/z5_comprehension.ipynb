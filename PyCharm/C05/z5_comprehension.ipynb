{
 "cells": [
  {
   "cell_type": "markdown",
   "source": [
    "### List comprehentions"
   ],
   "metadata": {
    "collapsed": false,
    "id": "JNhBJk4o5WVr"
   }
  },
  {
   "cell_type": "code",
   "execution_count": 4,
   "outputs": [],
   "source": [
    "lista = [i for i in range(10)]"
   ],
   "metadata": {
    "ExecuteTime": {
     "end_time": "2024-04-01T09:45:50.994143Z",
     "start_time": "2024-04-01T09:45:50.982861Z"
    },
    "id": "3vD_Iirn5WVs"
   }
  },
  {
   "cell_type": "code",
   "source": [
    "lista"
   ],
   "metadata": {
    "colab": {
     "base_uri": "https://localhost:8080/"
    },
    "id": "KVWAWLS87AxN",
    "outputId": "14c06d79-33dc-4a92-b15f-a6b783aab0ec"
   },
   "execution_count": 5,
   "outputs": [
    {
     "output_type": "execute_result",
     "data": {
      "text/plain": [
       "[0, 1, 2, 3, 4, 5, 6, 7, 8, 9]"
      ]
     },
     "metadata": {},
     "execution_count": 5
    }
   ]
  },
  {
   "cell_type": "code",
   "execution_count": 7,
   "outputs": [
    {
     "output_type": "execute_result",
     "data": {
      "text/plain": [
       "[[0, 1], [0, 1], [0, 1], [0, 1], [0, 1]]"
      ]
     },
     "metadata": {},
     "execution_count": 7
    }
   ],
   "source": [
    "# wersja zagnieżdżona\n",
    "[[i for i in range(2)] for j in range(5)]"
   ],
   "metadata": {
    "ExecuteTime": {
     "end_time": "2024-04-01T09:45:52.308631Z",
     "start_time": "2024-04-01T09:45:52.300861Z"
    },
    "colab": {
     "base_uri": "https://localhost:8080/"
    },
    "id": "_EMepyfQ5WVt",
    "outputId": "96422073-c78a-4558-9551-e61813a4dc90"
   }
  },
  {
   "cell_type": "code",
   "source": [
    "[i for i in range(2)]"
   ],
   "metadata": {
    "colab": {
     "base_uri": "https://localhost:8080/"
    },
    "id": "pI-gD1ts7Pd1",
    "outputId": "8354a822-9e71-4ef4-ad39-820e6bfb33d8"
   },
   "execution_count": 6,
   "outputs": [
    {
     "output_type": "execute_result",
     "data": {
      "text/plain": [
       "[0, 1]"
      ]
     },
     "metadata": {},
     "execution_count": 6
    }
   ]
  },
  {
   "cell_type": "code",
   "execution_count": 8,
   "outputs": [
    {
     "output_type": "execute_result",
     "data": {
      "text/plain": [
       "[84, 81, 47, 13, 70, 64, 15, 85, 89, 28]"
      ]
     },
     "metadata": {},
     "execution_count": 8
    }
   ],
   "source": [
    "# wylosować listę list 10 x 10 liczb losowych\n",
    "import random\n",
    "[random.randint(0, 100) for _ in range(10)]"
   ],
   "metadata": {
    "ExecuteTime": {
     "end_time": "2024-04-01T09:46:01.421695Z",
     "start_time": "2024-04-01T09:46:01.413451Z"
    },
    "colab": {
     "base_uri": "https://localhost:8080/"
    },
    "id": "WSw_Qn535WVt",
    "outputId": "55673c63-09bb-41e8-82ce-acc36f29b211"
   }
  },
  {
   "cell_type": "code",
   "execution_count": 9,
   "outputs": [
    {
     "output_type": "execute_result",
     "data": {
      "text/plain": [
       "[[62, 9, 96, 76, 91, 31, 73, 26, 87, 97],\n",
       " [47, 62, 10, 6, 84, 28, 54, 32, 45, 12],\n",
       " [100, 74, 62, 55, 56, 75, 19, 87, 77, 41],\n",
       " [47, 84, 7, 60, 84, 21, 89, 22, 5, 21],\n",
       " [65, 54, 56, 49, 64, 57, 87, 0, 92, 13],\n",
       " [97, 42, 49, 23, 29, 36, 38, 88, 78, 91],\n",
       " [38, 19, 99, 92, 29, 79, 65, 17, 78, 61],\n",
       " [21, 57, 96, 42, 52, 44, 10, 0, 4, 83],\n",
       " [5, 83, 89, 43, 86, 23, 50, 86, 85, 20],\n",
       " [89, 77, 94, 25, 28, 49, 13, 2, 1, 59]]"
      ]
     },
     "metadata": {},
     "execution_count": 9
    }
   ],
   "source": [
    "dane = [[random.randint(0, 100) for _ in range(10)] for _ in range(10)]\n",
    "dane"
   ],
   "metadata": {
    "ExecuteTime": {
     "end_time": "2024-04-01T09:46:05.138185Z",
     "start_time": "2024-04-01T09:46:05.128647Z"
    },
    "colab": {
     "base_uri": "https://localhost:8080/"
    },
    "id": "06FIXjwR5WVu",
    "outputId": "4f5d2ae4-0c1b-4f04-ec72-efb0f3e4349f"
   }
  },
  {
   "cell_type": "code",
   "execution_count": 10,
   "outputs": [
    {
     "output_type": "execute_result",
     "data": {
      "text/plain": [
       "[62,\n",
       " 9,\n",
       " 96,\n",
       " 76,\n",
       " 91,\n",
       " 31,\n",
       " 73,\n",
       " 26,\n",
       " 87,\n",
       " 97,\n",
       " 47,\n",
       " 62,\n",
       " 10,\n",
       " 6,\n",
       " 84,\n",
       " 28,\n",
       " 54,\n",
       " 32,\n",
       " 45,\n",
       " 12,\n",
       " 100,\n",
       " 74,\n",
       " 62,\n",
       " 55,\n",
       " 56,\n",
       " 75,\n",
       " 19,\n",
       " 87,\n",
       " 77,\n",
       " 41,\n",
       " 47,\n",
       " 84,\n",
       " 7,\n",
       " 60,\n",
       " 84,\n",
       " 21,\n",
       " 89,\n",
       " 22,\n",
       " 5,\n",
       " 21,\n",
       " 65,\n",
       " 54,\n",
       " 56,\n",
       " 49,\n",
       " 64,\n",
       " 57,\n",
       " 87,\n",
       " 0,\n",
       " 92,\n",
       " 13,\n",
       " 97,\n",
       " 42,\n",
       " 49,\n",
       " 23,\n",
       " 29,\n",
       " 36,\n",
       " 38,\n",
       " 88,\n",
       " 78,\n",
       " 91,\n",
       " 38,\n",
       " 19,\n",
       " 99,\n",
       " 92,\n",
       " 29,\n",
       " 79,\n",
       " 65,\n",
       " 17,\n",
       " 78,\n",
       " 61,\n",
       " 21,\n",
       " 57,\n",
       " 96,\n",
       " 42,\n",
       " 52,\n",
       " 44,\n",
       " 10,\n",
       " 0,\n",
       " 4,\n",
       " 83,\n",
       " 5,\n",
       " 83,\n",
       " 89,\n",
       " 43,\n",
       " 86,\n",
       " 23,\n",
       " 50,\n",
       " 86,\n",
       " 85,\n",
       " 20,\n",
       " 89,\n",
       " 77,\n",
       " 94,\n",
       " 25,\n",
       " 28,\n",
       " 49,\n",
       " 13,\n",
       " 2,\n",
       " 1,\n",
       " 59]"
      ]
     },
     "metadata": {},
     "execution_count": 10
    }
   ],
   "source": [
    "# wypłaszczyć dane\n",
    "[el for lista in dane for el in lista]"
   ],
   "metadata": {
    "ExecuteTime": {
     "end_time": "2024-04-01T09:46:16.023750Z",
     "start_time": "2024-04-01T09:46:16.015242Z"
    },
    "colab": {
     "base_uri": "https://localhost:8080/"
    },
    "id": "DM4CHFvX5WVu",
    "outputId": "b3140241-167e-4264-def9-7dd1938ad671"
   }
  },
  {
   "cell_type": "code",
   "source": [
    "[el for lista in dane for el in lista]"
   ],
   "metadata": {
    "id": "N2ifPMN68Ro2"
   },
   "execution_count": null,
   "outputs": []
  },
  {
   "cell_type": "code",
   "source": [
    "[el for el in lista1 for lista1 in dane]"
   ],
   "metadata": {
    "colab": {
     "base_uri": "https://localhost:8080/",
     "height": 141
    },
    "id": "1HwFCqgl7_7M",
    "outputId": "5695bb29-fd11-474a-e6c8-22d8e0e2b333"
   },
   "execution_count": 13,
   "outputs": [
    {
     "output_type": "error",
     "ename": "NameError",
     "evalue": "name 'lista1' is not defined",
     "traceback": [
      "\u001B[0;31m---------------------------------------------------------------------------\u001B[0m",
      "\u001B[0;31mNameError\u001B[0m                                 Traceback (most recent call last)",
      "\u001B[0;32m<ipython-input-13-5db8bdb2f96e>\u001B[0m in \u001B[0;36m<cell line: 1>\u001B[0;34m()\u001B[0m\n\u001B[0;32m----> 1\u001B[0;31m \u001B[0;34m[\u001B[0m\u001B[0mel\u001B[0m \u001B[0;32mfor\u001B[0m \u001B[0mel\u001B[0m \u001B[0;32min\u001B[0m \u001B[0mlista1\u001B[0m \u001B[0;32mfor\u001B[0m \u001B[0mlista1\u001B[0m \u001B[0;32min\u001B[0m \u001B[0mdane\u001B[0m\u001B[0;34m]\u001B[0m\u001B[0;34m\u001B[0m\u001B[0;34m\u001B[0m\u001B[0m\n\u001B[0m",
      "\u001B[0;31mNameError\u001B[0m: name 'lista1' is not defined"
     ]
    }
   ]
  },
  {
   "cell_type": "code",
   "execution_count": 14,
   "outputs": [
    {
     "output_type": "execute_result",
     "data": {
      "text/plain": [
       "[0, 1, 4, 9, 16, 25, 36, 49, 64, 81]"
      ]
     },
     "metadata": {},
     "execution_count": 14
    }
   ],
   "source": [
    "# działania\n",
    "[x ** 2 for x in range(10)]"
   ],
   "metadata": {
    "ExecuteTime": {
     "end_time": "2024-04-01T09:46:27.818254Z",
     "start_time": "2024-04-01T09:46:27.811448Z"
    },
    "colab": {
     "base_uri": "https://localhost:8080/"
    },
    "id": "EPJVGdhK5WVu",
    "outputId": "69292511-eb0b-49b1-d19c-82e02e21f61f"
   }
  },
  {
   "cell_type": "code",
   "execution_count": 15,
   "outputs": [
    {
     "output_type": "execute_result",
     "data": {
      "text/plain": [
       "[0, 2, 4, 6, 8]"
      ]
     },
     "metadata": {},
     "execution_count": 15
    }
   ],
   "source": [
    "# filtrowanie\n",
    "[x for x in range(10) if x % 2 == 0]"
   ],
   "metadata": {
    "ExecuteTime": {
     "end_time": "2024-04-01T09:46:29.686683Z",
     "start_time": "2024-04-01T09:46:29.680114Z"
    },
    "colab": {
     "base_uri": "https://localhost:8080/"
    },
    "id": "7I6LMLwl5WVu",
    "outputId": "7c58c735-0f14-4b1a-e5bc-d39651614e2c"
   }
  },
  {
   "cell_type": "code",
   "execution_count": 16,
   "outputs": [
    {
     "output_type": "execute_result",
     "data": {
      "text/plain": [
       "<generator object <genexpr> at 0x7f52481806d0>"
      ]
     },
     "metadata": {},
     "execution_count": 16
    }
   ],
   "source": [
    "# krotki\n",
    "(x for x in range(10)) # uwaga to jest generator"
   ],
   "metadata": {
    "ExecuteTime": {
     "end_time": "2024-04-01T09:46:40.781795Z",
     "start_time": "2024-04-01T09:46:40.774039Z"
    },
    "colab": {
     "base_uri": "https://localhost:8080/"
    },
    "id": "u3rHBR5f5WVu",
    "outputId": "f646f0dd-3015-451c-b122-6e079bf6c26f"
   }
  },
  {
   "cell_type": "code",
   "execution_count": 17,
   "outputs": [
    {
     "output_type": "execute_result",
     "data": {
      "text/plain": [
       "(0, 1, 2, 3, 4, 5, 6, 7, 8, 9)"
      ]
     },
     "metadata": {},
     "execution_count": 17
    }
   ],
   "source": [
    "tuple((x for x in range(10)))"
   ],
   "metadata": {
    "ExecuteTime": {
     "end_time": "2024-04-01T09:46:46.212644Z",
     "start_time": "2024-04-01T09:46:46.200949Z"
    },
    "colab": {
     "base_uri": "https://localhost:8080/"
    },
    "id": "176ffawJ5WVv",
    "outputId": "c5d5181e-7c11-4f84-9864-9257ec808595"
   }
  },
  {
   "cell_type": "code",
   "execution_count": 18,
   "outputs": [
    {
     "output_type": "execute_result",
     "data": {
      "text/plain": [
       "{0: 0, 1: 1, 2: 4, 3: 9, 4: 16, 5: 25, 6: 36, 7: 49, 8: 64, 9: 81}"
      ]
     },
     "metadata": {},
     "execution_count": 18
    }
   ],
   "source": [
    "# słowniki\n",
    "{x: x ** 2 for x in range(10)}"
   ],
   "metadata": {
    "ExecuteTime": {
     "end_time": "2024-04-01T09:46:53.105999Z",
     "start_time": "2024-04-01T09:46:53.095938Z"
    },
    "colab": {
     "base_uri": "https://localhost:8080/"
    },
    "id": "Z1gm42iy5WVv",
    "outputId": "2c07c4d0-bc4b-4f92-cc1b-58428c87bfa1"
   }
  },
  {
   "cell_type": "code",
   "execution_count": 19,
   "outputs": [
    {
     "output_type": "execute_result",
     "data": {
      "text/plain": [
       "[[' ', ' ', ' ', ' ', ' '],\n",
       " [' ', ' ', ' ', ' ', ' '],\n",
       " [' ', ' ', ' ', ' ', ' '],\n",
       " [' ', ' ', ' ', ' ', ' '],\n",
       " [' ', ' ', ' ', ' ', ' ']]"
      ]
     },
     "metadata": {},
     "execution_count": 19
    }
   ],
   "source": [
    "# pusta plansza kółko i krzyżyk\n",
    "n = 5\n",
    "plansza = [[' ' for _ in range(n)] for _ in range(n)]\n",
    "plansza"
   ],
   "metadata": {
    "ExecuteTime": {
     "end_time": "2024-04-01T09:46:57.237554Z",
     "start_time": "2024-04-01T09:46:57.227560Z"
    },
    "colab": {
     "base_uri": "https://localhost:8080/"
    },
    "id": "Xpaf7Kcz5WVv",
    "outputId": "576f8f5a-4c85-427e-e2f8-8a682caa2562"
   }
  },
  {
   "cell_type": "markdown",
   "source": [
    "### Funkcje anonimowe lambda\n",
    "lambda argumenty : zwracane wartości"
   ],
   "metadata": {
    "collapsed": false,
    "id": "dtW89bMZ5WVv"
   }
  },
  {
   "cell_type": "code",
   "execution_count": 20,
   "outputs": [
    {
     "output_type": "execute_result",
     "data": {
      "text/plain": [
       "3"
      ]
     },
     "metadata": {},
     "execution_count": 20
    }
   ],
   "source": [
    "fun = lambda x, y: x + y\n",
    "fun(1, 2)"
   ],
   "metadata": {
    "ExecuteTime": {
     "end_time": "2024-04-01T09:47:04.153609Z",
     "start_time": "2024-04-01T09:47:04.146116Z"
    },
    "colab": {
     "base_uri": "https://localhost:8080/"
    },
    "id": "o6j118kX5WVv",
    "outputId": "76e95dd9-8dbf-4168-f904-13a6317db8f8"
   }
  },
  {
   "cell_type": "code",
   "execution_count": 21,
   "outputs": [
    {
     "output_type": "execute_result",
     "data": {
      "text/plain": [
       "[1, 2, 3]"
      ]
     },
     "metadata": {},
     "execution_count": 21
    }
   ],
   "source": [
    "sorted([3, 2, 1])"
   ],
   "metadata": {
    "ExecuteTime": {
     "end_time": "2024-04-01T09:47:09.669428Z",
     "start_time": "2024-04-01T09:47:09.661964Z"
    },
    "colab": {
     "base_uri": "https://localhost:8080/"
    },
    "id": "XWlj7Ejt5WVv",
    "outputId": "0aa76bab-7c4d-4cd0-f657-dc1e6e8c8585"
   }
  },
  {
   "cell_type": "code",
   "execution_count": 22,
   "outputs": [
    {
     "output_type": "execute_result",
     "data": {
      "text/plain": [
       "[('a', 3), ('c', 1), ('d', 7)]"
      ]
     },
     "metadata": {},
     "execution_count": 22
    }
   ],
   "source": [
    "t = [('a', 3), ('d', 7), ('c', 1)]\n",
    "sorted(t)"
   ],
   "metadata": {
    "ExecuteTime": {
     "end_time": "2024-04-01T09:47:10.712613Z",
     "start_time": "2024-04-01T09:47:10.703292Z"
    },
    "colab": {
     "base_uri": "https://localhost:8080/"
    },
    "id": "mobhwnoe5WVw",
    "outputId": "a70083d5-c1b3-41be-b914-4f5c763f8e1e"
   }
  },
  {
   "cell_type": "code",
   "execution_count": 23,
   "outputs": [
    {
     "output_type": "execute_result",
     "data": {
      "text/plain": [
       "[('c', 1), ('a', 3), ('d', 7)]"
      ]
     },
     "metadata": {},
     "execution_count": 23
    }
   ],
   "source": [
    "sorted(t, key=lambda x: x[1])"
   ],
   "metadata": {
    "ExecuteTime": {
     "end_time": "2024-04-01T09:47:17.599655Z",
     "start_time": "2024-04-01T09:47:17.591957Z"
    },
    "colab": {
     "base_uri": "https://localhost:8080/"
    },
    "id": "XRSAPfcD5WVw",
    "outputId": "42ee4217-135c-4468-e826-f65af04364f4"
   }
  },
  {
   "cell_type": "markdown",
   "source": [
    "### Generatory\n",
    "* nie przechowują całej zawartości w pamięci\n",
    "* generują elementy w locie\n",
    "* następny element dostajemy poprzez next\n",
    "* funkcje generatorowe - yield zamiast return"
   ],
   "metadata": {
    "collapsed": false,
    "id": "1lkWCu6y5WVw"
   }
  },
  {
   "cell_type": "code",
   "execution_count": 24,
   "outputs": [],
   "source": [
    "r = range(3)"
   ],
   "metadata": {
    "ExecuteTime": {
     "end_time": "2024-04-01T09:47:31.800362Z",
     "start_time": "2024-04-01T09:47:31.795313Z"
    },
    "id": "31Ga5_uR5WVw"
   }
  },
  {
   "cell_type": "code",
   "execution_count": 25,
   "outputs": [],
   "source": [
    "it = iter(r) # robimy iterator z range"
   ],
   "metadata": {
    "ExecuteTime": {
     "end_time": "2024-04-01T09:47:33.112459Z",
     "start_time": "2024-04-01T09:47:33.107793Z"
    },
    "id": "Pgkb8JPn5WVw"
   }
  },
  {
   "cell_type": "code",
   "execution_count": 29,
   "outputs": [
    {
     "output_type": "error",
     "ename": "StopIteration",
     "evalue": "",
     "traceback": [
      "\u001B[0;31m---------------------------------------------------------------------------\u001B[0m",
      "\u001B[0;31mStopIteration\u001B[0m                             Traceback (most recent call last)",
      "\u001B[0;32m<ipython-input-29-bc1ab118995a>\u001B[0m in \u001B[0;36m<cell line: 1>\u001B[0;34m()\u001B[0m\n\u001B[0;32m----> 1\u001B[0;31m \u001B[0mnext\u001B[0m\u001B[0;34m(\u001B[0m\u001B[0mit\u001B[0m\u001B[0;34m)\u001B[0m\u001B[0;34m\u001B[0m\u001B[0;34m\u001B[0m\u001B[0m\n\u001B[0m",
      "\u001B[0;31mStopIteration\u001B[0m: "
     ]
    }
   ],
   "source": [
    "next(it)"
   ],
   "metadata": {
    "ExecuteTime": {
     "end_time": "2024-04-01T09:47:39.634836Z",
     "start_time": "2024-04-01T09:47:39.162077Z"
    },
    "colab": {
     "base_uri": "https://localhost:8080/",
     "height": 141
    },
    "id": "F_nFe7ps5WVw",
    "outputId": "66c8c1f8-0624-4488-bba7-539caa47eb04"
   }
  },
  {
   "cell_type": "code",
   "execution_count": 30,
   "outputs": [],
   "source": [
    "g = (x for x in range(10))"
   ],
   "metadata": {
    "ExecuteTime": {
     "end_time": "2024-04-01T09:47:45.309155Z",
     "start_time": "2024-04-01T09:47:45.304828Z"
    },
    "id": "rH5oq8DK5WVw"
   }
  },
  {
   "cell_type": "code",
   "execution_count": 32,
   "outputs": [
    {
     "output_type": "execute_result",
     "data": {
      "text/plain": [
       "1"
      ]
     },
     "metadata": {},
     "execution_count": 32
    }
   ],
   "source": [
    "next(g)"
   ],
   "metadata": {
    "ExecuteTime": {
     "end_time": "2024-04-01T09:47:46.361150Z",
     "start_time": "2024-04-01T09:47:46.354286Z"
    },
    "colab": {
     "base_uri": "https://localhost:8080/"
    },
    "id": "_VAOBv-I5WVw",
    "outputId": "9d0580c8-3ef5-483c-9f6d-2b9e422d69d0"
   }
  },
  {
   "cell_type": "code",
   "execution_count": 33,
   "outputs": [],
   "source": [
    "# funkcja generatorowa\n",
    "def my_range(n):\n",
    "    i = 0\n",
    "    while i < n:\n",
    "        yield i\n",
    "        i += 1"
   ],
   "metadata": {
    "ExecuteTime": {
     "end_time": "2024-04-01T09:47:55.575840Z",
     "start_time": "2024-04-01T09:47:55.571568Z"
    },
    "id": "sJnDOOl85WVw"
   }
  },
  {
   "cell_type": "code",
   "execution_count": 34,
   "outputs": [],
   "source": [
    "r = my_range(3)"
   ],
   "metadata": {
    "ExecuteTime": {
     "end_time": "2024-04-01T09:47:58.531532Z",
     "start_time": "2024-04-01T09:47:58.526778Z"
    },
    "id": "G10YPEl15WVx"
   }
  },
  {
   "cell_type": "code",
   "execution_count": 35,
   "outputs": [
    {
     "output_type": "execute_result",
     "data": {
      "text/plain": [
       "<generator object my_range at 0x7f5248180740>"
      ]
     },
     "metadata": {},
     "execution_count": 35
    }
   ],
   "source": [
    "r"
   ],
   "metadata": {
    "ExecuteTime": {
     "end_time": "2024-04-01T09:47:59.858272Z",
     "start_time": "2024-04-01T09:47:59.851434Z"
    },
    "colab": {
     "base_uri": "https://localhost:8080/"
    },
    "id": "hKC6Pgsa5WVx",
    "outputId": "5a4118a6-1753-4a24-e8fd-f5ec342059c4"
   }
  },
  {
   "cell_type": "code",
   "execution_count": 39,
   "outputs": [
    {
     "output_type": "error",
     "ename": "StopIteration",
     "evalue": "",
     "traceback": [
      "\u001B[0;31m---------------------------------------------------------------------------\u001B[0m",
      "\u001B[0;31mStopIteration\u001B[0m                             Traceback (most recent call last)",
      "\u001B[0;32m<ipython-input-39-8ebe59a56b1d>\u001B[0m in \u001B[0;36m<cell line: 1>\u001B[0;34m()\u001B[0m\n\u001B[0;32m----> 1\u001B[0;31m \u001B[0mnext\u001B[0m\u001B[0;34m(\u001B[0m\u001B[0mr\u001B[0m\u001B[0;34m)\u001B[0m\u001B[0;34m\u001B[0m\u001B[0;34m\u001B[0m\u001B[0m\n\u001B[0m",
      "\u001B[0;31mStopIteration\u001B[0m: "
     ]
    }
   ],
   "source": [
    "next(r)"
   ],
   "metadata": {
    "ExecuteTime": {
     "end_time": "2024-04-01T09:48:01.221492Z",
     "start_time": "2024-04-01T09:48:01.213685Z"
    },
    "colab": {
     "base_uri": "https://localhost:8080/",
     "height": 141
    },
    "id": "YRgnrLn-5WVx",
    "outputId": "3bb07473-36cd-4430-a702-b7e9224595fd"
   }
  },
  {
   "cell_type": "markdown",
   "source": [
    "### Rzeczy, które mogą się przydać na kolokwium, niezwiązane bezpośrednio z tematami zajęć"
   ],
   "metadata": {
    "collapsed": false,
    "id": "w5xuE-BW5WVx"
   }
  },
  {
   "cell_type": "code",
   "outputs": [
    {
     "output_type": "execute_result",
     "data": {
      "text/plain": [
       "3"
      ]
     },
     "metadata": {},
     "execution_count": 40
    }
   ],
   "source": [
    "# losowanie liczb całkowitych\n",
    "import random\n",
    "random.randint(3, 8)"
   ],
   "metadata": {
    "ExecuteTime": {
     "end_time": "2024-04-05T14:17:15.519009Z",
     "start_time": "2024-04-05T14:17:15.509045Z"
    },
    "colab": {
     "base_uri": "https://localhost:8080/"
    },
    "id": "r2jioFWm5WVx",
    "outputId": "d476e9ed-66fd-46fd-a706-aa85a0273b9c"
   },
   "execution_count": 40
  },
  {
   "cell_type": "code",
   "outputs": [
    {
     "output_type": "execute_result",
     "data": {
      "text/plain": [
       "'a'"
      ],
      "application/vnd.google.colaboratory.intrinsic+json": {
       "type": "string"
      }
     },
     "metadata": {},
     "execution_count": 42
    }
   ],
   "source": [
    "# losowanie elementu z listy\n",
    "l = ['a', 'b', 'c']\n",
    "random.choice(l)"
   ],
   "metadata": {
    "ExecuteTime": {
     "end_time": "2024-04-05T14:24:43.019243Z",
     "start_time": "2024-04-05T14:24:43.013214Z"
    },
    "colab": {
     "base_uri": "https://localhost:8080/",
     "height": 36
    },
    "id": "BPt7O6Nu5WVx",
    "outputId": "7260ea33-2442-464b-94da-9bd6ca667cb8"
   },
   "execution_count": 42
  },
  {
   "cell_type": "code",
   "outputs": [
    {
     "output_type": "execute_result",
     "data": {
      "text/plain": [
       "2.8577725735945525"
      ]
     },
     "metadata": {},
     "execution_count": 43
    }
   ],
   "source": [
    "# losowanie liczb rzeczywistych\n",
    "random.uniform(2, 4)"
   ],
   "metadata": {
    "ExecuteTime": {
     "end_time": "2024-04-05T14:42:33.095945Z",
     "start_time": "2024-04-05T14:42:33.089378Z"
    },
    "colab": {
     "base_uri": "https://localhost:8080/"
    },
    "id": "7nivqcRF5WVx",
    "outputId": "86680d5a-7a0d-436b-cb84-56b5203ce403"
   },
   "execution_count": 43
  },
  {
   "cell_type": "code",
   "outputs": [
    {
     "output_type": "stream",
     "name": "stdout",
     "text": [
      "abcdefghijklmnopqrstuvwxyz\n",
      "ABCDEFGHIJKLMNOPQRSTUVWXYZ\n"
     ]
    }
   ],
   "source": [
    "import string\n",
    "# małe litery\n",
    "print(string.ascii_lowercase)\n",
    "# wielkie litery\n",
    "print(string.ascii_uppercase)"
   ],
   "metadata": {
    "ExecuteTime": {
     "end_time": "2024-04-05T14:36:30.984036Z",
     "start_time": "2024-04-05T14:36:30.978667Z"
    },
    "colab": {
     "base_uri": "https://localhost:8080/"
    },
    "id": "WSB2HBSQ5WVx",
    "outputId": "95ac127a-eea0-491e-b7d8-c82d74baef60"
   },
   "execution_count": 44
  },
  {
   "cell_type": "markdown",
   "source": [
    "### Zadanie 1\n",
    "Zrobić 'piramidę' listę list. Pierwsza lista zawiera [1], druga [1, 2], ostatnia [1, 2, .., n]"
   ],
   "metadata": {
    "collapsed": false,
    "id": "i8TNxXRm5WVx"
   }
  },
  {
   "cell_type": "code",
   "execution_count": null,
   "outputs": [],
   "source": [],
   "metadata": {
    "ExecuteTime": {
     "end_time": "2024-03-27T15:13:06.624766400Z",
     "start_time": "2024-03-27T15:13:06.624259100Z"
    },
    "id": "EVDzc5Af5WVy"
   }
  },
  {
   "cell_type": "markdown",
   "source": [
    "### Zadanie 2\n",
    "Dla danego napisu utworzyć listę zawierającą samogłoski z tego napisu"
   ],
   "metadata": {
    "collapsed": false,
    "id": "UtL_yjs45WVy"
   }
  },
  {
   "cell_type": "code",
   "execution_count": null,
   "outputs": [],
   "source": [],
   "metadata": {
    "ExecuteTime": {
     "end_time": "2024-04-01T09:50:04.031075Z",
     "start_time": "2024-04-01T09:50:04.027839Z"
    },
    "id": "xA_8if3s5WVy"
   }
  },
  {
   "cell_type": "markdown",
   "source": [
    "### Zadanie 3\n",
    "* Wygenerować listę n list każda o rozmiarze n zawierających losowe liczby z zakresu (1, 10)\n",
    "* użyć list comprehentions do transpozycji macierzy\n",
    "* wybrać wszystkie elementy na głównej przekątnej"
   ],
   "metadata": {
    "collapsed": false,
    "id": "iCYb7Pcs5WVy"
   }
  },
  {
   "cell_type": "code",
   "execution_count": null,
   "outputs": [],
   "source": [],
   "metadata": {
    "ExecuteTime": {
     "end_time": "2024-04-01T09:51:31.607544Z",
     "start_time": "2024-04-01T09:51:31.598772Z"
    },
    "id": "DdJ6kWAd5WVy"
   }
  },
  {
   "cell_type": "code",
   "outputs": [],
   "source": [],
   "metadata": {
    "ExecuteTime": {
     "end_time": "2024-04-01T09:52:03.802796Z",
     "start_time": "2024-04-01T09:52:03.794081Z"
    },
    "id": "RezIdoB55WVy"
   },
   "execution_count": null
  },
  {
   "cell_type": "markdown",
   "source": [
    "### Zadanie 4\n",
    "* Napisać funkcję, która sprawdza, czy liczba jest pierwsza i zwraca wartość logiczną\n",
    "* Napisać generator, który zwróci n liczb pierwszych z wykorzystaniem funkcji generatorowej i yield"
   ],
   "metadata": {
    "collapsed": false,
    "id": "iwK8qJfQ5WVz"
   }
  },
  {
   "cell_type": "code",
   "execution_count": null,
   "outputs": [],
   "source": [
    "\n"
   ],
   "metadata": {
    "ExecuteTime": {
     "end_time": "2024-04-01T09:56:22.137675Z",
     "start_time": "2024-04-01T09:56:22.134121Z"
    },
    "id": "zzF2ar985WVz"
   }
  },
  {
   "cell_type": "code",
   "execution_count": null,
   "outputs": [],
   "source": [],
   "metadata": {
    "id": "W7EduyV-5WVz"
   }
  }
 ],
 "metadata": {
  "kernelspec": {
   "display_name": "Python 3",
   "language": "python",
   "name": "python3"
  },
  "language_info": {
   "codemirror_mode": {
    "name": "ipython",
    "version": 2
   },
   "file_extension": ".py",
   "mimetype": "text/x-python",
   "name": "python",
   "nbconvert_exporter": "python",
   "pygments_lexer": "ipython2",
   "version": "2.7.6"
  },
  "colab": {
   "provenance": []
  }
 },
 "nbformat": 4,
 "nbformat_minor": 0
}
