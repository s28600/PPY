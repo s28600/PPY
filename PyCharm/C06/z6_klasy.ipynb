{
 "cells": [
  {
   "cell_type": "markdown",
   "id": "b721c06c",
   "metadata": {},
   "source": [
    "## Klasy"
   ]
  },
  {
   "cell_type": "markdown",
   "id": "dbdd5dc7",
   "metadata": {},
   "source": [
    "### Prosta klasa\n",
    "* konstruktor - funkcja o nazwie __init__\n",
    "* pierwszym argumentem funkcji jest zawsze self - obiekt klasy, dla którego wywołujemy funkcję (jak this w c++)\n",
    "* do pól i metod obiektu klasy odwołujemy się poprzez .\n",
    "* wszystkie pola obiektu powinniśmy zdefiniować w init"
   ]
  },
  {
   "cell_type": "code",
   "execution_count": 1,
   "id": "01894f1f",
   "metadata": {
    "ExecuteTime": {
     "end_time": "2024-04-21T11:22:08.565886Z",
     "start_time": "2024-04-21T11:22:08.556470Z"
    }
   },
   "outputs": [],
   "source": [
    "# definicja klasy\n",
    "class Prostokat:\n",
    "    def __init__(self, wysokosc, szerokosc, wypelnienie): # konstruktor\n",
    "        self.szerokosc = szerokosc\n",
    "        self.wysokosc = wysokosc\n",
    "        self.wypelnienie = wypelnienie"
   ]
  },
  {
   "cell_type": "code",
   "execution_count": 2,
   "id": "c8669e92",
   "metadata": {
    "ExecuteTime": {
     "end_time": "2024-04-21T11:22:10.458647Z",
     "start_time": "2024-04-21T11:22:10.453682Z"
    }
   },
   "outputs": [],
   "source": [
    "# definicja i tworzenie obiektu klasy\n",
    "p = Prostokat(2, 3, '*')"
   ]
  },
  {
   "cell_type": "code",
   "execution_count": 3,
   "id": "17e97052",
   "metadata": {
    "ExecuteTime": {
     "end_time": "2024-04-21T11:22:12.068032Z",
     "start_time": "2024-04-21T11:22:12.058602Z"
    }
   },
   "outputs": [
    {
     "data": {
      "text/plain": "__main__.Prostokat"
     },
     "execution_count": 3,
     "metadata": {},
     "output_type": "execute_result"
    }
   ],
   "source": [
    "type(p)"
   ]
  },
  {
   "cell_type": "code",
   "execution_count": 4,
   "id": "a6627763",
   "metadata": {
    "ExecuteTime": {
     "end_time": "2024-04-21T11:22:12.885459Z",
     "start_time": "2024-04-21T11:22:12.878639Z"
    }
   },
   "outputs": [
    {
     "data": {
      "text/plain": "'*'"
     },
     "execution_count": 4,
     "metadata": {},
     "output_type": "execute_result"
    }
   ],
   "source": [
    "# odwołanie do pola wypelnienie\n",
    "p.wypelnienie"
   ]
  },
  {
   "cell_type": "code",
   "execution_count": 5,
   "id": "2495fc5b",
   "metadata": {
    "ExecuteTime": {
     "end_time": "2024-04-21T11:22:16.415747Z",
     "start_time": "2024-04-21T11:22:16.409065Z"
    }
   },
   "outputs": [
    {
     "data": {
      "text/plain": "'&'"
     },
     "execution_count": 5,
     "metadata": {},
     "output_type": "execute_result"
    }
   ],
   "source": [
    "# nie ma ochrony pól (konwencyjnie pola prywatne oznaczamy nazwą rozpoczynającą się od _)\n",
    "p.wypelnienie = '&'\n",
    "p.wypelnienie"
   ]
  },
  {
   "cell_type": "markdown",
   "id": "f086c202",
   "metadata": {},
   "source": [
    "### Więcej metod"
   ]
  },
  {
   "cell_type": "code",
   "execution_count": 6,
   "id": "0e55ef15",
   "metadata": {
    "ExecuteTime": {
     "end_time": "2024-04-21T11:22:23.248278Z",
     "start_time": "2024-04-21T11:22:23.242063Z"
    }
   },
   "outputs": [],
   "source": [
    "class Prostokat:\n",
    "    def __init__(self, wysokosc, szerokosc, wypelnienie): # konstruktor\n",
    "        self.szerokosc = szerokosc\n",
    "        self.wysokosc = wysokosc\n",
    "        self.wypelnienie = wypelnienie\n",
    "        \n",
    "    def pole_powierzchni(self):\n",
    "        return self.szerokosc * self.wysokosc\n",
    "    \n",
    "    def rysuj(self):\n",
    "        for _ in range(self.wysokosc):\n",
    "            print(self.szerokosc * self.wypelnienie)"
   ]
  },
  {
   "cell_type": "code",
   "execution_count": 7,
   "id": "0b1389ae",
   "metadata": {
    "ExecuteTime": {
     "end_time": "2024-04-21T11:22:29.110373Z",
     "start_time": "2024-04-21T11:22:29.103714Z"
    }
   },
   "outputs": [
    {
     "data": {
      "text/plain": "6"
     },
     "execution_count": 7,
     "metadata": {},
     "output_type": "execute_result"
    }
   ],
   "source": [
    "p = Prostokat(2, 3, '*')\n",
    "p.pole_powierzchni()"
   ]
  },
  {
   "cell_type": "code",
   "execution_count": 8,
   "id": "9e264dca",
   "metadata": {
    "ExecuteTime": {
     "end_time": "2024-04-21T11:22:30.159878Z",
     "start_time": "2024-04-21T11:22:30.154796Z"
    }
   },
   "outputs": [
    {
     "name": "stdout",
     "output_type": "stream",
     "text": [
      "***\n",
      "***\n"
     ]
    }
   ],
   "source": [
    "p.rysuj()"
   ]
  },
  {
   "cell_type": "markdown",
   "id": "7cbfa76e",
   "metadata": {},
   "source": [
    "### Magiczne metody\n",
    "* możemy nadpisywać metody takie jak len, str"
   ]
  },
  {
   "cell_type": "code",
   "execution_count": 9,
   "id": "5f536904",
   "metadata": {
    "ExecuteTime": {
     "end_time": "2024-04-21T11:22:41.353800Z",
     "start_time": "2024-04-21T11:22:41.347701Z"
    }
   },
   "outputs": [],
   "source": [
    "class Prostokat:\n",
    "    def __init__(self, wysokosc, szerokosc, wypelnienie): # konstruktor\n",
    "        self.szerokosc = szerokosc\n",
    "        self.wysokosc = wysokosc\n",
    "        self.wypelnienie = wypelnienie\n",
    "        \n",
    "    def pole_powierzchni(self):\n",
    "        return self.szerokosc * self.wysokosc\n",
    "    \n",
    "    def __str__(self):\n",
    "        reprezentacja_string = ''\n",
    "        for _ in range(self.wysokosc):\n",
    "            reprezentacja_string = reprezentacja_string + self.szerokosc * self.wypelnienie + '\\n'\n",
    "        return reprezentacja_string"
   ]
  },
  {
   "cell_type": "code",
   "execution_count": 10,
   "id": "95fb8194",
   "metadata": {
    "ExecuteTime": {
     "end_time": "2024-04-21T11:22:42.620941Z",
     "start_time": "2024-04-21T11:22:42.614681Z"
    }
   },
   "outputs": [
    {
     "data": {
      "text/plain": "'***\\n***\\n'"
     },
     "execution_count": 10,
     "metadata": {},
     "output_type": "execute_result"
    }
   ],
   "source": [
    "p = Prostokat(2, 3, '*')\n",
    "str(p)"
   ]
  },
  {
   "cell_type": "code",
   "execution_count": 11,
   "id": "49fae811",
   "metadata": {
    "ExecuteTime": {
     "end_time": "2024-04-21T11:22:43.926234Z",
     "start_time": "2024-04-21T11:22:43.921708Z"
    }
   },
   "outputs": [
    {
     "name": "stdout",
     "output_type": "stream",
     "text": [
      "***\n",
      "***\n"
     ]
    }
   ],
   "source": [
    "print(p)"
   ]
  },
  {
   "cell_type": "markdown",
   "id": "20cbea3e",
   "metadata": {},
   "source": [
    "### Dziedziczenie"
   ]
  },
  {
   "cell_type": "code",
   "execution_count": 12,
   "id": "994801f9",
   "metadata": {
    "ExecuteTime": {
     "end_time": "2024-04-21T11:22:54.587381Z",
     "start_time": "2024-04-21T11:22:54.581390Z"
    }
   },
   "outputs": [],
   "source": [
    "class Prostokat:\n",
    "    def __init__(self, wysokosc, szerokosc): # konstruktor\n",
    "        self.szerokosc = szerokosc\n",
    "        self.wysokosc = wysokosc\n",
    "        \n",
    "    def pole_powierzchni(self):\n",
    "        return self.szerokosc * self.wysokosc\n",
    "    \n",
    "class Kwadrat(Prostokat):\n",
    "    def __init__(self, wysokosc):\n",
    "        super().__init__(wysokosc, wysokosc) # wywołanie metody z klasy bazowej"
   ]
  },
  {
   "cell_type": "code",
   "execution_count": 13,
   "id": "34a31c81",
   "metadata": {
    "ExecuteTime": {
     "end_time": "2024-04-21T11:22:57.975965Z",
     "start_time": "2024-04-21T11:22:57.969445Z"
    }
   },
   "outputs": [
    {
     "data": {
      "text/plain": "4"
     },
     "execution_count": 13,
     "metadata": {},
     "output_type": "execute_result"
    }
   ],
   "source": [
    "k = Kwadrat(2)\n",
    "k.pole_powierzchni()"
   ]
  },
  {
   "cell_type": "markdown",
   "id": "ec109285",
   "metadata": {},
   "source": [
    "### Polimorfizm"
   ]
  },
  {
   "cell_type": "code",
   "execution_count": 14,
   "id": "b0c685b8",
   "metadata": {
    "ExecuteTime": {
     "end_time": "2024-04-21T11:23:19.851425Z",
     "start_time": "2024-04-21T11:23:19.843948Z"
    }
   },
   "outputs": [],
   "source": [
    "class Figura:\n",
    "    \n",
    "    def pole_powierzchni(self):\n",
    "        return 0\n",
    "    \n",
    "class Prostokat(Figura):\n",
    "    def __init__(self, wysokosc, szerokosc): # konstruktor\n",
    "        self.szerokosc = szerokosc\n",
    "        self.wysokosc = wysokosc\n",
    "        \n",
    "    def pole_powierzchni(self):\n",
    "        return self.szerokosc * self.wysokosc\n",
    "    \n",
    "class Kwadrat(Prostokat):\n",
    "    def __init__(self, wysokosc):\n",
    "        super().__init__(wysokosc, wysokosc)\n",
    "        \n",
    "class Trojkat(Figura):\n",
    "    def __init__(self, podstawa, wysokosc):\n",
    "        self.podstawa = podstawa\n",
    "        self.wysokosc = wysokosc\n",
    "        \n",
    "    def pole_powierzchni(self):\n",
    "        return self.wysokosc * self.podstawa / 2"
   ]
  },
  {
   "cell_type": "code",
   "execution_count": 15,
   "id": "fc677fc2",
   "metadata": {
    "ExecuteTime": {
     "end_time": "2024-04-21T11:23:21.426527Z",
     "start_time": "2024-04-21T11:23:21.419999Z"
    }
   },
   "outputs": [
    {
     "name": "stdout",
     "output_type": "stream",
     "text": [
      "12\n",
      "16\n",
      "8.0\n"
     ]
    }
   ],
   "source": [
    "lista_figur = [Prostokat(2, 6), Kwadrat(4), Trojkat(4, 4)]\n",
    "for f in lista_figur:\n",
    "    print(f.pole_powierzchni())"
   ]
  },
  {
   "cell_type": "markdown",
   "id": "0ddc20cb",
   "metadata": {},
   "source": [
    "### Metody i pola klasowe"
   ]
  },
  {
   "cell_type": "code",
   "execution_count": 16,
   "id": "1e696dc3",
   "metadata": {
    "ExecuteTime": {
     "end_time": "2024-04-21T11:23:27.360606Z",
     "start_time": "2024-04-21T11:23:27.355563Z"
    }
   },
   "outputs": [],
   "source": [
    "class KlasaZLicznikiem:\n",
    "    licznik = 0 # to jest pole klasy, nie obiektu"
   ]
  },
  {
   "cell_type": "code",
   "execution_count": 17,
   "id": "d7c7dd3f",
   "metadata": {
    "ExecuteTime": {
     "end_time": "2024-04-21T11:23:29.624949Z",
     "start_time": "2024-04-21T11:23:29.617803Z"
    }
   },
   "outputs": [
    {
     "data": {
      "text/plain": "0"
     },
     "execution_count": 17,
     "metadata": {},
     "output_type": "execute_result"
    }
   ],
   "source": [
    "o1 = KlasaZLicznikiem()\n",
    "o1.licznik"
   ]
  },
  {
   "cell_type": "code",
   "execution_count": 18,
   "id": "1d860a76",
   "metadata": {
    "ExecuteTime": {
     "end_time": "2024-04-21T11:23:32.422070Z",
     "start_time": "2024-04-21T11:23:32.416849Z"
    }
   },
   "outputs": [
    {
     "name": "stdout",
     "output_type": "stream",
     "text": [
      "0\n",
      "5\n"
     ]
    }
   ],
   "source": [
    "o1.licznik = 5\n",
    "o2 = KlasaZLicznikiem()\n",
    "print(o2.licznik)\n",
    "print(o1.licznik)"
   ]
  },
  {
   "cell_type": "code",
   "execution_count": 19,
   "id": "1aaaa631",
   "metadata": {
    "ExecuteTime": {
     "end_time": "2024-04-21T11:24:16.469454Z",
     "start_time": "2024-04-21T11:24:16.464660Z"
    }
   },
   "outputs": [],
   "source": [
    "o1.aaa = 10 # dodaliśmy pole do obiektu"
   ]
  },
  {
   "cell_type": "code",
   "execution_count": 20,
   "id": "ede132df",
   "metadata": {
    "ExecuteTime": {
     "end_time": "2024-04-21T11:24:17.462690Z",
     "start_time": "2024-04-21T11:24:17.456011Z"
    }
   },
   "outputs": [
    {
     "data": {
      "text/plain": "0"
     },
     "execution_count": 20,
     "metadata": {},
     "output_type": "execute_result"
    }
   ],
   "source": [
    "KlasaZLicznikiem.licznik # tu się odwołujemy do pola klasy"
   ]
  },
  {
   "cell_type": "code",
   "execution_count": 21,
   "id": "8fc6423e",
   "metadata": {
    "ExecuteTime": {
     "end_time": "2024-04-21T11:24:20.321820Z",
     "start_time": "2024-04-21T11:24:20.316842Z"
    }
   },
   "outputs": [],
   "source": [
    "class KlasaZLicznikiem:\n",
    "    licznik = 0 # to jest pole klasy, nie obiektu\n",
    "    \n",
    "    @classmethod\n",
    "    def inkrement(cls):\n",
    "        cls.licznik = cls.licznik + 1"
   ]
  },
  {
   "cell_type": "code",
   "execution_count": 22,
   "id": "f4e08ddd",
   "metadata": {
    "ExecuteTime": {
     "end_time": "2024-04-21T11:24:25.720467Z",
     "start_time": "2024-04-21T11:24:25.716077Z"
    }
   },
   "outputs": [],
   "source": [
    "o1 = KlasaZLicznikiem()\n",
    "o2 = KlasaZLicznikiem()"
   ]
  },
  {
   "cell_type": "code",
   "execution_count": 23,
   "id": "27229eaf",
   "metadata": {
    "ExecuteTime": {
     "end_time": "2024-04-21T11:24:27.226588Z",
     "start_time": "2024-04-21T11:24:27.219719Z"
    }
   },
   "outputs": [
    {
     "data": {
      "text/plain": "0"
     },
     "execution_count": 23,
     "metadata": {},
     "output_type": "execute_result"
    }
   ],
   "source": [
    "KlasaZLicznikiem.licznik"
   ]
  },
  {
   "cell_type": "code",
   "execution_count": 24,
   "id": "ffcaa9e0",
   "metadata": {
    "ExecuteTime": {
     "end_time": "2024-04-21T11:24:28.461810Z",
     "start_time": "2024-04-21T11:24:28.456627Z"
    }
   },
   "outputs": [
    {
     "name": "stdout",
     "output_type": "stream",
     "text": [
      "1\n",
      "2\n"
     ]
    }
   ],
   "source": [
    "o1.inkrement()\n",
    "print(KlasaZLicznikiem.licznik)\n",
    "o2.inkrement()\n",
    "print(KlasaZLicznikiem.licznik)"
   ]
  },
  {
   "cell_type": "markdown",
   "id": "149fbf64",
   "metadata": {},
   "source": [
    "### Metody statyczne"
   ]
  },
  {
   "cell_type": "code",
   "execution_count": 25,
   "id": "b9393d33",
   "metadata": {
    "ExecuteTime": {
     "end_time": "2024-04-21T11:24:37.545214Z",
     "start_time": "2024-04-21T11:24:37.539823Z"
    }
   },
   "outputs": [],
   "source": [
    "class Klasa:\n",
    "    \n",
    "    @staticmethod\n",
    "    def fun(a):\n",
    "        print(a)"
   ]
  },
  {
   "cell_type": "code",
   "execution_count": 26,
   "id": "c1105d63",
   "metadata": {
    "ExecuteTime": {
     "end_time": "2024-04-21T11:24:38.695964Z",
     "start_time": "2024-04-21T11:24:38.684309Z"
    }
   },
   "outputs": [
    {
     "name": "stdout",
     "output_type": "stream",
     "text": [
      "5\n"
     ]
    }
   ],
   "source": [
    "o = Klasa()\n",
    "o.fun(5)"
   ]
  },
  {
   "cell_type": "code",
   "execution_count": 27,
   "id": "d8b04eb8",
   "metadata": {
    "ExecuteTime": {
     "end_time": "2024-04-21T11:24:42.105326Z",
     "start_time": "2024-04-21T11:24:42.100661Z"
    }
   },
   "outputs": [],
   "source": [
    "class Klasa:\n",
    "    \n",
    "    def fun(a): # bez staticmethod pierwszy argument zawsze jest referencją do obiektu wywołującego metodę\n",
    "        print(a)"
   ]
  },
  {
   "cell_type": "code",
   "execution_count": 28,
   "id": "18cfda1d",
   "metadata": {
    "ExecuteTime": {
     "end_time": "2024-04-21T11:24:43.763854Z",
     "start_time": "2024-04-21T11:24:43.117879Z"
    }
   },
   "outputs": [
    {
     "ename": "TypeError",
     "evalue": "Klasa.fun() takes 1 positional argument but 2 were given",
     "output_type": "error",
     "traceback": [
      "\u001B[1;31m---------------------------------------------------------------------------\u001B[0m",
      "\u001B[1;31mTypeError\u001B[0m                                 Traceback (most recent call last)",
      "Cell \u001B[1;32mIn[28], line 2\u001B[0m\n\u001B[0;32m      1\u001B[0m o \u001B[38;5;241m=\u001B[39m Klasa()\n\u001B[1;32m----> 2\u001B[0m \u001B[43mo\u001B[49m\u001B[38;5;241;43m.\u001B[39;49m\u001B[43mfun\u001B[49m\u001B[43m(\u001B[49m\u001B[38;5;241;43m5\u001B[39;49m\u001B[43m)\u001B[49m\n",
      "\u001B[1;31mTypeError\u001B[0m: Klasa.fun() takes 1 positional argument but 2 were given"
     ]
    }
   ],
   "source": [
    "o = Klasa()\n",
    "o.fun(5)"
   ]
  },
  {
   "cell_type": "code",
   "execution_count": 29,
   "id": "05e0e208",
   "metadata": {
    "ExecuteTime": {
     "end_time": "2024-04-21T11:24:57.279945Z",
     "start_time": "2024-04-21T11:24:57.275566Z"
    }
   },
   "outputs": [
    {
     "name": "stdout",
     "output_type": "stream",
     "text": [
      "<__main__.Klasa object at 0x000001B624F97C50>\n"
     ]
    }
   ],
   "source": [
    "o.fun()"
   ]
  },
  {
   "cell_type": "markdown",
   "id": "6f50af5b",
   "metadata": {},
   "source": [
    "### Zadania"
   ]
  },
  {
   "cell_type": "markdown",
   "id": "505d1a66",
   "metadata": {},
   "source": [
    "#### Zadanie 1\n",
    "* (1a) Zdefiniować klasę Książka, która będzie miała pola tytuł, autor, rok wydania, liczba stron. Zaimplementować metodę \\_\\_init\\_\\_, która przypisze wartości początkowe polom. Zdefiniować dwa obiekty klasy książka. Wydrukować wartości pól. Zmienić tytuł drugiej książki i ponownie wydrukować\n",
    "* (1b) Zdefiniować metodę cytowanie, która wydrukuje dane książki w estetyczny sposób\n",
    "* (1c) Nadpisać metodę \\_\\_len\\_\\_ tak, aby zwracała liczbę stron książki\n",
    "* (1d) Zdefiniować klasę Ebook, dziedziczącą z klasy ksiązka, która będzie miała dodatkowo pole format (np. epub). Nadpisać metodę cytowanie, tak, aby uwzględniała format. Zdefiniować obiekt klasy ebook i wywołać metodę cytowanie"
   ]
  },
  {
   "cell_type": "code",
   "outputs": [],
   "source": [],
   "metadata": {
    "collapsed": false
   },
   "id": "e0edb9b42223fda7"
  },
  {
   "cell_type": "markdown",
   "id": "443c508e",
   "metadata": {},
   "source": [
    "#### Zadanie 2 (kółko i krzyżyk raz jeszce)\n",
    "* (2a) Zdefiniować klasę PlanszaTicTacToe, która będzie miała pole rozmiar oraz pole plansza. Zdefiniować metodę \\_\\_init\\_\\_, która jako argument przyjmuje rozmiar planszy i tworzy pustą planszę (lista list zawierających ' ' o rozmiarze rozmiar x rozmiar)\n",
    "* (2b) Dla klasy PlanszaTicTacToe napisać metody drukuj (estetyczny wydruk planszy) oraz wstaw(x, y, znak) - metoda wstawia znak w pole o współrzędnych x, y\n",
    "* (2c) Zdefiniować klasę GraTicTacToe, która ma pola: plansza, aktualny zawodnik i wynik. Metoda \\_\\_init\\_\\_ przyjmuje jako argumenty rozmiar planszy i znak rozpoczynającego zawodnika (x lub o) i ustawia odpowiednie wartości pól (wykorzystać obiekt klasy PlanszaTicTacToe). _Dobra praktyką jest inicjalizacja wszystkich pól klasy w metodzie init_\n",
    "* (bonus) zaimpelemntować rozgrywkę korzystając z kodu z zajęć 4"
   ]
  },
  {
   "cell_type": "code",
   "execution_count": null,
   "id": "a80a22d8",
   "metadata": {},
   "outputs": [],
   "source": []
  }
 ],
 "metadata": {
  "kernelspec": {
   "display_name": "Python 3 (ipykernel)",
   "language": "python",
   "name": "python3"
  },
  "language_info": {
   "codemirror_mode": {
    "name": "ipython",
    "version": 3
   },
   "file_extension": ".py",
   "mimetype": "text/x-python",
   "name": "python",
   "nbconvert_exporter": "python",
   "pygments_lexer": "ipython3",
   "version": "3.11.5"
  }
 },
 "nbformat": 4,
 "nbformat_minor": 5
}
