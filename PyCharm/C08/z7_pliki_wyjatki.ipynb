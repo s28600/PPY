{
 "cells": [
  {
   "cell_type": "markdown",
   "source": [
    "## Wyjątki (Exceptions)"
   ],
   "metadata": {
    "collapsed": false
   },
   "id": "281e6b109408505b"
  },
  {
   "cell_type": "code",
   "outputs": [
    {
     "ename": "ZeroDivisionError",
     "evalue": "division by zero",
     "output_type": "error",
     "traceback": [
      "\u001B[1;31m---------------------------------------------------------------------------\u001B[0m",
      "\u001B[1;31mZeroDivisionError\u001B[0m                         Traceback (most recent call last)",
      "Cell \u001B[1;32mIn[3], line 1\u001B[0m\n\u001B[1;32m----> 1\u001B[0m \u001B[38;5;241;43m7\u001B[39;49m\u001B[43m \u001B[49m\u001B[38;5;241;43m/\u001B[39;49m\u001B[43m \u001B[49m\u001B[38;5;241;43m0\u001B[39;49m\n",
      "\u001B[1;31mZeroDivisionError\u001B[0m: division by zero"
     ]
    }
   ],
   "source": [
    "7 / 0"
   ],
   "metadata": {
    "collapsed": false,
    "ExecuteTime": {
     "end_time": "2024-04-25T13:39:29.069799Z",
     "start_time": "2024-04-25T13:39:29.056887Z"
    }
   },
   "id": "d74938da4ca51d99",
   "execution_count": 3
  },
  {
   "cell_type": "code",
   "outputs": [
    {
     "ename": "ValueError",
     "evalue": "invalid literal for int() with base 10: 'aaa'",
     "output_type": "error",
     "traceback": [
      "\u001B[1;31m---------------------------------------------------------------------------\u001B[0m",
      "\u001B[1;31mValueError\u001B[0m                                Traceback (most recent call last)",
      "Cell \u001B[1;32mIn[5], line 1\u001B[0m\n\u001B[1;32m----> 1\u001B[0m \u001B[38;5;28;43mint\u001B[39;49m\u001B[43m(\u001B[49m\u001B[38;5;124;43m'\u001B[39;49m\u001B[38;5;124;43maaa\u001B[39;49m\u001B[38;5;124;43m'\u001B[39;49m\u001B[43m)\u001B[49m\n",
      "\u001B[1;31mValueError\u001B[0m: invalid literal for int() with base 10: 'aaa'"
     ]
    }
   ],
   "source": [
    "int('aaa')"
   ],
   "metadata": {
    "collapsed": false,
    "ExecuteTime": {
     "end_time": "2024-04-25T13:43:16.217404Z",
     "start_time": "2024-04-25T13:43:16.203097Z"
    }
   },
   "id": "dfcd2e2a70b9e399",
   "execution_count": 5
  },
  {
   "cell_type": "code",
   "outputs": [
    {
     "ename": "NameError",
     "evalue": "name 'x' is not defined",
     "output_type": "error",
     "traceback": [
      "\u001B[1;31m---------------------------------------------------------------------------\u001B[0m",
      "\u001B[1;31mNameError\u001B[0m                                 Traceback (most recent call last)",
      "Cell \u001B[1;32mIn[6], line 1\u001B[0m\n\u001B[1;32m----> 1\u001B[0m \u001B[38;5;28mprint\u001B[39m(\u001B[43mx\u001B[49m)\n",
      "\u001B[1;31mNameError\u001B[0m: name 'x' is not defined"
     ]
    }
   ],
   "source": [
    "print(x)"
   ],
   "metadata": {
    "collapsed": false,
    "ExecuteTime": {
     "end_time": "2024-04-25T13:43:29.204261Z",
     "start_time": "2024-04-25T13:43:29.191016Z"
    }
   },
   "id": "864d04b281731040",
   "execution_count": 6
  },
  {
   "cell_type": "code",
   "outputs": [
    {
     "name": "stdout",
     "output_type": "stream",
     "text": [
      "['ArithmeticError', 'AssertionError', 'AttributeError', 'BaseException', 'BaseExceptionGroup', 'BlockingIOError', 'BrokenPipeError', 'BufferError', 'BytesWarning', 'ChildProcessError', 'ConnectionAbortedError', 'ConnectionError', 'ConnectionRefusedError', 'ConnectionResetError', 'DeprecationWarning', 'EOFError', 'Ellipsis', 'EncodingWarning', 'EnvironmentError', 'Exception', 'ExceptionGroup', 'False', 'FileExistsError', 'FileNotFoundError', 'FloatingPointError', 'FutureWarning', 'GeneratorExit', 'IOError', 'ImportError', 'ImportWarning', 'IndentationError', 'IndexError', 'InterruptedError', 'IsADirectoryError', 'KeyError', 'KeyboardInterrupt', 'LookupError', 'MemoryError', 'ModuleNotFoundError', 'NameError', 'None', 'NotADirectoryError', 'NotImplemented', 'NotImplementedError', 'OSError', 'OverflowError', 'PendingDeprecationWarning', 'PermissionError', 'ProcessLookupError', 'RecursionError', 'ReferenceError', 'ResourceWarning', 'RuntimeError', 'RuntimeWarning', 'StopAsyncIteration', 'StopIteration', 'SyntaxError', 'SyntaxWarning', 'SystemError', 'SystemExit', 'TabError', 'TimeoutError', 'True', 'TypeError', 'UnboundLocalError', 'UnicodeDecodeError', 'UnicodeEncodeError', 'UnicodeError', 'UnicodeTranslateError', 'UnicodeWarning', 'UserWarning', 'ValueError', 'Warning', 'WindowsError', 'ZeroDivisionError', '__IPYTHON__', '__build_class__', '__debug__', '__doc__', '__import__', '__loader__', '__name__', '__package__', '__spec__', 'abs', 'aiter', 'all', 'anext', 'any', 'ascii', 'bin', 'bool', 'breakpoint', 'bytearray', 'bytes', 'callable', 'chr', 'classmethod', 'compile', 'complex', 'copyright', 'credits', 'delattr', 'dict', 'dir', 'display', 'divmod', 'enumerate', 'eval', 'exec', 'execfile', 'filter', 'float', 'format', 'frozenset', 'get_ipython', 'getattr', 'globals', 'hasattr', 'hash', 'help', 'hex', 'id', 'input', 'int', 'isinstance', 'issubclass', 'iter', 'len', 'license', 'list', 'locals', 'map', 'max', 'memoryview', 'min', 'next', 'object', 'oct', 'open', 'ord', 'pow', 'print', 'property', 'range', 'repr', 'reversed', 'round', 'runfile', 'set', 'setattr', 'slice', 'sorted', 'staticmethod', 'str', 'sum', 'super', 'tuple', 'type', 'vars', 'zip']\n"
     ]
    }
   ],
   "source": [
    "print(dir(locals()['__builtins__']))"
   ],
   "metadata": {
    "collapsed": false,
    "ExecuteTime": {
     "end_time": "2024-04-25T13:40:11.868771Z",
     "start_time": "2024-04-25T13:40:11.863993Z"
    }
   },
   "id": "f324028473f764cf",
   "execution_count": 4
  },
  {
   "cell_type": "code",
   "outputs": [
    {
     "name": "stdout",
     "output_type": "stream",
     "text": [
      "Help on class ArithmeticError in module builtins:\n",
      "\n",
      "class ArithmeticError(Exception)\n",
      " |  Base class for arithmetic errors.\n",
      " |  \n",
      " |  Method resolution order:\n",
      " |      ArithmeticError\n",
      " |      Exception\n",
      " |      BaseException\n",
      " |      object\n",
      " |  \n",
      " |  Built-in subclasses:\n",
      " |      FloatingPointError\n",
      " |      OverflowError\n",
      " |      ZeroDivisionError\n",
      " |  \n",
      " |  Methods defined here:\n",
      " |  \n",
      " |  __init__(self, /, *args, **kwargs)\n",
      " |      Initialize self.  See help(type(self)) for accurate signature.\n",
      " |  \n",
      " |  ----------------------------------------------------------------------\n",
      " |  Static methods defined here:\n",
      " |  \n",
      " |  __new__(*args, **kwargs) from builtins.type\n",
      " |      Create and return a new object.  See help(type) for accurate signature.\n",
      " |  \n",
      " |  ----------------------------------------------------------------------\n",
      " |  Methods inherited from BaseException:\n",
      " |  \n",
      " |  __delattr__(self, name, /)\n",
      " |      Implement delattr(self, name).\n",
      " |  \n",
      " |  __getattribute__(self, name, /)\n",
      " |      Return getattr(self, name).\n",
      " |  \n",
      " |  __reduce__(...)\n",
      " |      Helper for pickle.\n",
      " |  \n",
      " |  __repr__(self, /)\n",
      " |      Return repr(self).\n",
      " |  \n",
      " |  __setattr__(self, name, value, /)\n",
      " |      Implement setattr(self, name, value).\n",
      " |  \n",
      " |  __setstate__(...)\n",
      " |  \n",
      " |  __str__(self, /)\n",
      " |      Return str(self).\n",
      " |  \n",
      " |  add_note(...)\n",
      " |      Exception.add_note(note) --\n",
      " |      add a note to the exception\n",
      " |  \n",
      " |  with_traceback(...)\n",
      " |      Exception.with_traceback(tb) --\n",
      " |      set self.__traceback__ to tb and return self.\n",
      " |  \n",
      " |  ----------------------------------------------------------------------\n",
      " |  Data descriptors inherited from BaseException:\n",
      " |  \n",
      " |  __cause__\n",
      " |      exception cause\n",
      " |  \n",
      " |  __context__\n",
      " |      exception context\n",
      " |  \n",
      " |  __dict__\n",
      " |  \n",
      " |  __suppress_context__\n",
      " |  \n",
      " |  __traceback__\n",
      " |  \n",
      " |  args\n"
     ]
    }
   ],
   "source": [
    "help(ArithmeticError)"
   ],
   "metadata": {
    "collapsed": false,
    "ExecuteTime": {
     "end_time": "2024-04-25T13:45:08.913493Z",
     "start_time": "2024-04-25T13:45:08.907733Z"
    }
   },
   "id": "1e0356df527a7df4",
   "execution_count": 7
  },
  {
   "cell_type": "markdown",
   "source": [
    "### Try - except\n",
    "* po wystąpieniu wyjątku wykonywany jest kod w except, reszta kodu w try jest pomijana\n",
    "* jeśli nie wystąpi wyjątek, kod w except się nie wykona\n",
    "* przechwytywanie wszystkich wyjątków w except jest niezalecane (może wystąpić błąd, którego nie przewidzieliśmy i nie mamy wtedy komunikatu)\n",
    "* lepiej przechwytywać konkretne wyjątki"
   ],
   "metadata": {
    "collapsed": false
   },
   "id": "d169ed3916a1ac3"
  },
  {
   "cell_type": "code",
   "outputs": [
    {
     "name": "stdout",
     "output_type": "stream",
     "text": [
      "Nie dziel przez zero!\n"
     ]
    }
   ],
   "source": [
    "try:\n",
    "    numerator = 10\n",
    "    denominator = 0\n",
    "\n",
    "    result = numerator/denominator\n",
    "\n",
    "    print(result)\n",
    "except:\n",
    "    print(\"Nie dziel przez zero!\")"
   ],
   "metadata": {
    "collapsed": false,
    "ExecuteTime": {
     "end_time": "2024-04-25T13:49:51.887280Z",
     "start_time": "2024-04-25T13:49:51.884086Z"
    }
   },
   "id": "b3f03a069dcc2cc0",
   "execution_count": 11
  },
  {
   "cell_type": "code",
   "outputs": [
    {
     "name": "stdout",
     "output_type": "stream",
     "text": [
      "2\n"
     ]
    },
    {
     "ename": "ValueError",
     "evalue": "invalid literal for int() with base 10: 'aaa'",
     "output_type": "error",
     "traceback": [
      "\u001B[1;31m---------------------------------------------------------------------------\u001B[0m",
      "\u001B[1;31mValueError\u001B[0m                                Traceback (most recent call last)",
      "Cell \u001B[1;32mIn[17], line 5\u001B[0m\n\u001B[0;32m      3\u001B[0m     even_numbers \u001B[38;5;241m=\u001B[39m [\u001B[38;5;241m2\u001B[39m,\u001B[38;5;241m4\u001B[39m,\u001B[38;5;241m6\u001B[39m,\u001B[38;5;241m8\u001B[39m]\n\u001B[0;32m      4\u001B[0m     \u001B[38;5;28mprint\u001B[39m(even_numbers[\u001B[38;5;241m0\u001B[39m])\n\u001B[1;32m----> 5\u001B[0m     \u001B[38;5;28;43mint\u001B[39;49m\u001B[43m(\u001B[49m\u001B[38;5;124;43m\"\u001B[39;49m\u001B[38;5;124;43maaa\u001B[39;49m\u001B[38;5;124;43m\"\u001B[39;49m\u001B[43m)\u001B[49m\n\u001B[0;32m      6\u001B[0m \u001B[38;5;28;01mexcept\u001B[39;00m \u001B[38;5;167;01mZeroDivisionError\u001B[39;00m:\n\u001B[0;32m      7\u001B[0m     \u001B[38;5;28mprint\u001B[39m(\u001B[38;5;124m\"\u001B[39m\u001B[38;5;124mNie dziel przez 0!\u001B[39m\u001B[38;5;124m\"\u001B[39m)\n",
      "\u001B[1;31mValueError\u001B[0m: invalid literal for int() with base 10: 'aaa'"
     ]
    }
   ],
   "source": [
    "# przechwytywanie konkretnych wyjątków\n",
    "try:\n",
    "    even_numbers = [2,4,6,8]\n",
    "    print(even_numbers[0])\n",
    "    # int(\"aaa\")\n",
    "except ZeroDivisionError:\n",
    "    print(\"Nie dziel przez 0!\")\n",
    "    \n",
    "except IndexError:\n",
    "    print(\"Indeks poza zakresem!\")"
   ],
   "metadata": {
    "collapsed": false,
    "ExecuteTime": {
     "end_time": "2024-04-25T13:53:56.875492Z",
     "start_time": "2024-04-25T13:53:56.857989Z"
    }
   },
   "id": "5ffad0b9b72d5029",
   "execution_count": 17
  },
  {
   "cell_type": "markdown",
   "source": [
    "### Try - except - else\n",
    "* kod w else wywołuje się, jeśli w bloku try nie wystąpiły wyjątki"
   ],
   "metadata": {
    "collapsed": false
   },
   "id": "3ca19708ba014571"
  },
  {
   "cell_type": "code",
   "outputs": [
    {
     "name": "stdout",
     "output_type": "stream",
     "text": [
      "0.5\n"
     ]
    }
   ],
   "source": [
    "try:\n",
    "    num = int(input(\"Podaj liczbę: \"))\n",
    "    assert num % 2 == 0 # assert sprawdza warunek, jeśli nie zostanie spełniony dostaniemy AssertionError\n",
    "except AssertionError:\n",
    "    print(\"To nie jest liczba parzysta!\")\n",
    "except ValueError:\n",
    "    print(\"To nawet nie jest liczba całkowita!\")\n",
    "else:\n",
    "    reciprocal = 1/num\n",
    "    print(reciprocal)"
   ],
   "metadata": {
    "collapsed": false,
    "ExecuteTime": {
     "end_time": "2024-04-25T13:58:01.829080Z",
     "start_time": "2024-04-25T13:58:00.389524Z"
    }
   },
   "id": "460825b7da5f2510",
   "execution_count": 20
  },
  {
   "cell_type": "markdown",
   "source": [
    "### Try - except - finally\n",
    "* kod w finally wykonuje się zawsze, niezależnie od wystąpienia wyjątków\n",
    "* przykładowe zastosowania: zamykanie plików, czyszczenie pamięci"
   ],
   "metadata": {
    "collapsed": false
   },
   "id": "b7122f60159a0e98"
  },
  {
   "cell_type": "code",
   "outputs": [
    {
     "name": "stdout",
     "output_type": "stream",
     "text": [
      "10.0\n",
      "Jesteśmy w finally\n"
     ]
    }
   ],
   "source": [
    "try:\n",
    "    numerator = 10\n",
    "    denominator = 1\n",
    "\n",
    "    result = numerator/denominator\n",
    "\n",
    "    print(result)\n",
    "except:\n",
    "    print(\"Nie dziel przez 0!\")\n",
    "    \n",
    "finally:\n",
    "    print(\"Jesteśmy w finally\")"
   ],
   "metadata": {
    "collapsed": false,
    "ExecuteTime": {
     "end_time": "2024-04-25T14:04:43.291501Z",
     "start_time": "2024-04-25T14:04:43.285755Z"
    }
   },
   "id": "efaa378403187883",
   "execution_count": 24
  },
  {
   "cell_type": "code",
   "outputs": [
    {
     "ename": "NameError",
     "evalue": "name 'x' is not defined",
     "output_type": "error",
     "traceback": [
      "\u001B[1;31m---------------------------------------------------------------------------\u001B[0m",
      "\u001B[1;31mNameError\u001B[0m                                 Traceback (most recent call last)",
      "Cell \u001B[1;32mIn[21], line 3\u001B[0m\n\u001B[0;32m      1\u001B[0m x \u001B[38;5;241m=\u001B[39m \u001B[38;5;241m3\u001B[39m\n\u001B[0;32m      2\u001B[0m \u001B[38;5;28;01mdel\u001B[39;00m x\n\u001B[1;32m----> 3\u001B[0m \u001B[38;5;28mprint\u001B[39m(\u001B[43mx\u001B[49m)\n",
      "\u001B[1;31mNameError\u001B[0m: name 'x' is not defined"
     ]
    }
   ],
   "source": [
    "# uwaga dodatkowa: kasowanie zmiennych: del\n",
    "x = 3\n",
    "del x\n",
    "print(x)"
   ],
   "metadata": {
    "collapsed": false,
    "ExecuteTime": {
     "end_time": "2024-04-25T14:03:31.492131Z",
     "start_time": "2024-04-25T14:03:31.479174Z"
    }
   },
   "id": "39c1bf1a6c7a6f4",
   "execution_count": 21
  },
  {
   "cell_type": "markdown",
   "source": [
    "### Własne wyjątki\n",
    "* możemy definiować własne wyjątki jako klasy dziedziczące po klasie Exception"
   ],
   "metadata": {
    "collapsed": false
   },
   "id": "e328002ef481253d"
  },
  {
   "cell_type": "code",
   "outputs": [],
   "source": [
    "#definijemy własny wyjątek\n",
    "class NotEvenNumber(Exception):\n",
    "    \"\"\"Raised when the input value is no even number\"\"\"\n",
    "    pass"
   ],
   "metadata": {
    "collapsed": false,
    "ExecuteTime": {
     "end_time": "2024-04-25T14:10:41.766468Z",
     "start_time": "2024-04-25T14:10:37.411225Z"
    }
   },
   "id": "9cb30b29efeccbd5",
   "execution_count": 25
  },
  {
   "cell_type": "code",
   "outputs": [
    {
     "ename": "NotEvenNumber",
     "evalue": "",
     "output_type": "error",
     "traceback": [
      "\u001B[1;31m---------------------------------------------------------------------------\u001B[0m",
      "\u001B[1;31mNotEvenNumber\u001B[0m                             Traceback (most recent call last)",
      "Cell \u001B[1;32mIn[26], line 3\u001B[0m\n\u001B[0;32m      1\u001B[0m num \u001B[38;5;241m=\u001B[39m \u001B[38;5;28mint\u001B[39m(\u001B[38;5;28minput\u001B[39m(\u001B[38;5;124m\"\u001B[39m\u001B[38;5;124mPodaj liczbę: \u001B[39m\u001B[38;5;124m\"\u001B[39m))\n\u001B[0;32m      2\u001B[0m \u001B[38;5;28;01mif\u001B[39;00m num \u001B[38;5;241m%\u001B[39m \u001B[38;5;241m2\u001B[39m \u001B[38;5;241m!=\u001B[39m \u001B[38;5;241m0\u001B[39m:\n\u001B[1;32m----> 3\u001B[0m     \u001B[38;5;28;01mraise\u001B[39;00m NotEvenNumber\n",
      "\u001B[1;31mNotEvenNumber\u001B[0m: "
     ]
    }
   ],
   "source": [
    "num = int(input(\"Podaj liczbę: \"))\n",
    "if num % 2 != 0:\n",
    "    raise NotEvenNumber"
   ],
   "metadata": {
    "collapsed": false,
    "ExecuteTime": {
     "end_time": "2024-04-25T14:11:01.810860Z",
     "start_time": "2024-04-25T14:10:58.230648Z"
    }
   },
   "id": "b6d395fa0a7fc58f",
   "execution_count": 26
  },
  {
   "cell_type": "code",
   "outputs": [],
   "source": [
    "class NotEvenNumber(Exception):\n",
    "    \"\"\"Raised when the input value is no even number\"\"\"\n",
    "    def __init__(self, value):\n",
    "        self.value = value\n",
    "        message = \"Value {} is not even\".format(value)\n",
    "        super().__init__(message)"
   ],
   "metadata": {
    "collapsed": false,
    "ExecuteTime": {
     "end_time": "2024-04-25T14:17:08.743808Z",
     "start_time": "2024-04-25T14:17:08.739367Z"
    }
   },
   "id": "6f27d3dda2d1544f",
   "execution_count": 32
  },
  {
   "cell_type": "code",
   "outputs": [
    {
     "ename": "NotEvenNumber",
     "evalue": "Value 3 is not even",
     "output_type": "error",
     "traceback": [
      "\u001B[1;31m---------------------------------------------------------------------------\u001B[0m",
      "\u001B[1;31mNotEvenNumber\u001B[0m                             Traceback (most recent call last)",
      "Cell \u001B[1;32mIn[33], line 3\u001B[0m\n\u001B[0;32m      1\u001B[0m num \u001B[38;5;241m=\u001B[39m \u001B[38;5;28mint\u001B[39m(\u001B[38;5;28minput\u001B[39m(\u001B[38;5;124m\"\u001B[39m\u001B[38;5;124mPodaj liczbę: \u001B[39m\u001B[38;5;124m\"\u001B[39m))\n\u001B[0;32m      2\u001B[0m \u001B[38;5;28;01mif\u001B[39;00m num \u001B[38;5;241m%\u001B[39m \u001B[38;5;241m2\u001B[39m \u001B[38;5;241m!=\u001B[39m \u001B[38;5;241m0\u001B[39m:\n\u001B[1;32m----> 3\u001B[0m     \u001B[38;5;28;01mraise\u001B[39;00m NotEvenNumber(num)\n",
      "\u001B[1;31mNotEvenNumber\u001B[0m: Value 3 is not even"
     ]
    }
   ],
   "source": [
    "num = int(input(\"Podaj liczbę: \"))\n",
    "if num % 2 != 0:\n",
    "    raise NotEvenNumber(num)"
   ],
   "metadata": {
    "collapsed": false,
    "ExecuteTime": {
     "end_time": "2024-04-25T14:17:13.759224Z",
     "start_time": "2024-04-25T14:17:09.547391Z"
    }
   },
   "id": "40e3c6b69013da1c",
   "execution_count": 33
  },
  {
   "cell_type": "code",
   "outputs": [
    {
     "name": "stdout",
     "output_type": "stream",
     "text": [
      "Help on class NotEvenNumber in module __main__:\n",
      "\n",
      "class NotEvenNumber(builtins.Exception)\n",
      " |  NotEvenNumber(value)\n",
      " |  \n",
      " |  Raised when the input value is no even number\n",
      " |  \n",
      " |  Method resolution order:\n",
      " |      NotEvenNumber\n",
      " |      builtins.Exception\n",
      " |      builtins.BaseException\n",
      " |      builtins.object\n",
      " |  \n",
      " |  Methods defined here:\n",
      " |  \n",
      " |  __init__(self, value)\n",
      " |      Initialize self.  See help(type(self)) for accurate signature.\n",
      " |  \n",
      " |  ----------------------------------------------------------------------\n",
      " |  Data descriptors defined here:\n",
      " |  \n",
      " |  __weakref__\n",
      " |      list of weak references to the object\n",
      " |  \n",
      " |  ----------------------------------------------------------------------\n",
      " |  Static methods inherited from builtins.Exception:\n",
      " |  \n",
      " |  __new__(*args, **kwargs) from builtins.type\n",
      " |      Create and return a new object.  See help(type) for accurate signature.\n",
      " |  \n",
      " |  ----------------------------------------------------------------------\n",
      " |  Methods inherited from builtins.BaseException:\n",
      " |  \n",
      " |  __delattr__(self, name, /)\n",
      " |      Implement delattr(self, name).\n",
      " |  \n",
      " |  __getattribute__(self, name, /)\n",
      " |      Return getattr(self, name).\n",
      " |  \n",
      " |  __reduce__(...)\n",
      " |      Helper for pickle.\n",
      " |  \n",
      " |  __repr__(self, /)\n",
      " |      Return repr(self).\n",
      " |  \n",
      " |  __setattr__(self, name, value, /)\n",
      " |      Implement setattr(self, name, value).\n",
      " |  \n",
      " |  __setstate__(...)\n",
      " |  \n",
      " |  __str__(self, /)\n",
      " |      Return str(self).\n",
      " |  \n",
      " |  add_note(...)\n",
      " |      Exception.add_note(note) --\n",
      " |      add a note to the exception\n",
      " |  \n",
      " |  with_traceback(...)\n",
      " |      Exception.with_traceback(tb) --\n",
      " |      set self.__traceback__ to tb and return self.\n",
      " |  \n",
      " |  ----------------------------------------------------------------------\n",
      " |  Data descriptors inherited from builtins.BaseException:\n",
      " |  \n",
      " |  __cause__\n",
      " |      exception cause\n",
      " |  \n",
      " |  __context__\n",
      " |      exception context\n",
      " |  \n",
      " |  __dict__\n",
      " |  \n",
      " |  __suppress_context__\n",
      " |  \n",
      " |  __traceback__\n",
      " |  \n",
      " |  args\n"
     ]
    }
   ],
   "source": [
    "# uwaga dodatkowa: docstring\n",
    "help(NotEvenNumber)"
   ],
   "metadata": {
    "collapsed": false,
    "ExecuteTime": {
     "end_time": "2024-04-25T14:17:56.945618Z",
     "start_time": "2024-04-25T14:17:56.939075Z"
    }
   },
   "id": "caa01390606459de",
   "execution_count": 35
  },
  {
   "cell_type": "markdown",
   "source": [
    "### Pliki"
   ],
   "metadata": {
    "collapsed": false
   },
   "id": "48b5e0992becc741"
  },
  {
   "cell_type": "markdown",
   "source": [
    "#### Moduł os\n",
    "* drukowanie i zmiana katalogu roboczego\n",
    "* listowanie plików i folderów\n",
    "* tworzenie folderów\n",
    "* tworzenie ścieżek do plików (działających dla różnych systemów operacyjnych)"
   ],
   "metadata": {
    "collapsed": false
   },
   "id": "6e6462558b84e5db"
  },
  {
   "cell_type": "code",
   "outputs": [
    {
     "name": "stdout",
     "output_type": "stream",
     "text": [
      "C:\\Users\\sztyb\\PycharmProjects\\ppy_z1\n"
     ]
    }
   ],
   "source": [
    "import os\n",
    "print(os.getcwd())"
   ],
   "metadata": {
    "collapsed": false,
    "ExecuteTime": {
     "end_time": "2024-04-25T14:37:51.838820Z",
     "start_time": "2024-04-25T14:37:51.834436Z"
    }
   },
   "id": "60d79b22a367cf73",
   "execution_count": 36
  },
  {
   "cell_type": "code",
   "outputs": [
    {
     "data": {
      "text/plain": "['.idea',\n 'cw1.py',\n 'main.py',\n 'venv',\n 'z1.ipynb',\n 'z2_listy.ipynb',\n 'z3_if_for_while.ipynb',\n 'z5_comprehension.ipynb',\n 'z6_klasy.ipynb',\n 'z7_pliki_wyjatki.ipynb',\n 'z7_pliki_wyjatki.ipynb.tmp']"
     },
     "execution_count": 37,
     "metadata": {},
     "output_type": "execute_result"
    }
   ],
   "source": [
    "os.listdir()"
   ],
   "metadata": {
    "collapsed": false,
    "ExecuteTime": {
     "end_time": "2024-04-25T14:38:22.061303Z",
     "start_time": "2024-04-25T14:38:22.053838Z"
    }
   },
   "id": "6d0e0499d372b524",
   "execution_count": 37
  },
  {
   "cell_type": "markdown",
   "source": [
    "### Operacje na plikach\n",
    "* pliki domyślnie są otwierane w trybie do odczytu\n",
    "* działamy w schemacie: otwórz plik - operacje - zamknije plik\n",
    "* jeśli nie podamy ścieżki to domyślnie plik jest szukany w aktualnym folderze"
   ],
   "metadata": {
    "collapsed": false
   },
   "id": "b79bb4e23f49962"
  },
  {
   "cell_type": "code",
   "outputs": [
    {
     "ename": "FileNotFoundError",
     "evalue": "[Errno 2] No such file or directory: 'test1.txt'",
     "output_type": "error",
     "traceback": [
      "\u001B[1;31m---------------------------------------------------------------------------\u001B[0m",
      "\u001B[1;31mFileNotFoundError\u001B[0m                         Traceback (most recent call last)",
      "Cell \u001B[1;32mIn[44], line 2\u001B[0m\n\u001B[0;32m      1\u001B[0m \u001B[38;5;66;03m# plik, którego nie ma\u001B[39;00m\n\u001B[1;32m----> 2\u001B[0m file1 \u001B[38;5;241m=\u001B[39m \u001B[38;5;28;43mopen\u001B[39;49m\u001B[43m(\u001B[49m\u001B[38;5;124;43m\"\u001B[39;49m\u001B[38;5;124;43mtest1.txt\u001B[39;49m\u001B[38;5;124;43m\"\u001B[39;49m\u001B[43m)\u001B[49m\n",
      "File \u001B[1;32m~\\PycharmProjects\\ppy_z1\\venv\\Lib\\site-packages\\IPython\\core\\interactiveshell.py:324\u001B[0m, in \u001B[0;36m_modified_open\u001B[1;34m(file, *args, **kwargs)\u001B[0m\n\u001B[0;32m    317\u001B[0m \u001B[38;5;28;01mif\u001B[39;00m file \u001B[38;5;129;01min\u001B[39;00m {\u001B[38;5;241m0\u001B[39m, \u001B[38;5;241m1\u001B[39m, \u001B[38;5;241m2\u001B[39m}:\n\u001B[0;32m    318\u001B[0m     \u001B[38;5;28;01mraise\u001B[39;00m \u001B[38;5;167;01mValueError\u001B[39;00m(\n\u001B[0;32m    319\u001B[0m         \u001B[38;5;124mf\u001B[39m\u001B[38;5;124m\"\u001B[39m\u001B[38;5;124mIPython won\u001B[39m\u001B[38;5;124m'\u001B[39m\u001B[38;5;124mt let you open fd=\u001B[39m\u001B[38;5;132;01m{\u001B[39;00mfile\u001B[38;5;132;01m}\u001B[39;00m\u001B[38;5;124m by default \u001B[39m\u001B[38;5;124m\"\u001B[39m\n\u001B[0;32m    320\u001B[0m         \u001B[38;5;124m\"\u001B[39m\u001B[38;5;124mas it is likely to crash IPython. If you know what you are doing, \u001B[39m\u001B[38;5;124m\"\u001B[39m\n\u001B[0;32m    321\u001B[0m         \u001B[38;5;124m\"\u001B[39m\u001B[38;5;124myou can use builtins\u001B[39m\u001B[38;5;124m'\u001B[39m\u001B[38;5;124m open.\u001B[39m\u001B[38;5;124m\"\u001B[39m\n\u001B[0;32m    322\u001B[0m     )\n\u001B[1;32m--> 324\u001B[0m \u001B[38;5;28;01mreturn\u001B[39;00m \u001B[43mio_open\u001B[49m\u001B[43m(\u001B[49m\u001B[43mfile\u001B[49m\u001B[43m,\u001B[49m\u001B[43m \u001B[49m\u001B[38;5;241;43m*\u001B[39;49m\u001B[43margs\u001B[49m\u001B[43m,\u001B[49m\u001B[43m \u001B[49m\u001B[38;5;241;43m*\u001B[39;49m\u001B[38;5;241;43m*\u001B[39;49m\u001B[43mkwargs\u001B[49m\u001B[43m)\u001B[49m\n",
      "\u001B[1;31mFileNotFoundError\u001B[0m: [Errno 2] No such file or directory: 'test1.txt'"
     ]
    }
   ],
   "source": [
    "# plik, którego nie ma\n",
    "file1 = open(\"test1.txt\")"
   ],
   "metadata": {
    "collapsed": false,
    "ExecuteTime": {
     "end_time": "2024-04-25T14:45:05.441686Z",
     "start_time": "2024-04-25T14:45:05.423526Z"
    }
   },
   "id": "2260cc77c4fcc5cc",
   "execution_count": 44
  },
  {
   "cell_type": "code",
   "outputs": [],
   "source": [
    "file = open(\"test.txt\")"
   ],
   "metadata": {
    "collapsed": false,
    "ExecuteTime": {
     "end_time": "2024-04-25T15:17:24.514434Z",
     "start_time": "2024-04-25T15:17:24.510583Z"
    }
   },
   "id": "f07a1b294f3710a8",
   "execution_count": 71
  },
  {
   "cell_type": "code",
   "outputs": [
    {
     "data": {
      "text/plain": "'aaa\\nbbb'"
     },
     "execution_count": 72,
     "metadata": {},
     "output_type": "execute_result"
    }
   ],
   "source": [
    "# odczyt zawartości pliku\n",
    "read_content = file.read()\n",
    "read_content"
   ],
   "metadata": {
    "collapsed": false,
    "ExecuteTime": {
     "end_time": "2024-04-25T15:17:25.127515Z",
     "start_time": "2024-04-25T15:17:25.121881Z"
    }
   },
   "id": "c667d8802906d0f3",
   "execution_count": 72
  },
  {
   "cell_type": "code",
   "outputs": [],
   "source": [
    "# próba ponownego wczytania\n",
    "read_content2 = file.read()\n",
    "read_content2"
   ],
   "metadata": {
    "collapsed": false,
    "ExecuteTime": {
     "end_time": "2024-04-25T15:17:26.225572Z",
     "start_time": "2024-04-25T15:17:26.221771Z"
    }
   },
   "id": "e847cf8c3c1877c1",
   "execution_count": 73
  },
  {
   "cell_type": "code",
   "outputs": [
    {
     "data": {
      "text/plain": "['aaa', 'bbb']"
     },
     "execution_count": 47,
     "metadata": {},
     "output_type": "execute_result"
    }
   ],
   "source": [
    "# podział na linie\n",
    "read_content.split()"
   ],
   "metadata": {
    "collapsed": false,
    "ExecuteTime": {
     "end_time": "2024-04-25T14:45:42.629862Z",
     "start_time": "2024-04-25T14:45:42.624629Z"
    }
   },
   "id": "6dac7db7fad48d6f",
   "execution_count": 47
  },
  {
   "cell_type": "code",
   "outputs": [],
   "source": [
    "# zamykanie pliku\n",
    "file.close()"
   ],
   "metadata": {
    "collapsed": false,
    "ExecuteTime": {
     "end_time": "2024-04-25T14:46:34.210742Z",
     "start_time": "2024-04-25T14:46:34.207330Z"
    }
   },
   "id": "fcf9755db0184caf",
   "execution_count": 48
  },
  {
   "cell_type": "markdown",
   "source": [
    "#### Składnia with\n",
    "* tworzy kontekst w którym pracujemy z plikiem\n",
    "* po wyjściu z kontekstu plik jest automatycznie zamykany\n",
    "* polecane podejście"
   ],
   "metadata": {
    "collapsed": false
   },
   "id": "db650643b57b0852"
  },
  {
   "cell_type": "code",
   "outputs": [
    {
     "name": "stdout",
     "output_type": "stream",
     "text": [
      "aaa\n",
      "bbb\n"
     ]
    }
   ],
   "source": [
    "with open(\"test.txt\", \"r\") as f:\n",
    "    read_content = f.read()\n",
    "    print(read_content)"
   ],
   "metadata": {
    "collapsed": false,
    "ExecuteTime": {
     "end_time": "2024-04-25T14:48:13.153990Z",
     "start_time": "2024-04-25T14:48:13.149887Z"
    }
   },
   "id": "f0e7bf30a2fa2705",
   "execution_count": 49
  },
  {
   "cell_type": "code",
   "outputs": [
    {
     "name": "stdout",
     "output_type": "stream",
     "text": [
      "['aaa\\n', 'bbb']\n"
     ]
    }
   ],
   "source": [
    "# readlines - dostajemy listę linni w pliku, każda linia ma na końcu enter\n",
    "with open(\"test.txt\", \"r\") as f:\n",
    "    read_content = f.readlines()\n",
    "    print(read_content)"
   ],
   "metadata": {
    "collapsed": false,
    "ExecuteTime": {
     "end_time": "2024-04-25T15:18:57.513729Z",
     "start_time": "2024-04-25T15:18:57.509364Z"
    }
   },
   "id": "cec67e7664674934",
   "execution_count": 76
  },
  {
   "cell_type": "code",
   "outputs": [
    {
     "name": "stdout",
     "output_type": "stream",
     "text": [
      "aaa\n"
     ]
    }
   ],
   "source": [
    "# readline - wczytanie kolejnej linii z pliku ( w tym przypadku pierwszej, bo plik otwieramy)\n",
    "with open(\"test.txt\", \"r\") as f:\n",
    "    read_content = f.readline()\n",
    "    print(read_content)"
   ],
   "metadata": {
    "collapsed": false,
    "ExecuteTime": {
     "end_time": "2024-04-25T15:19:40.697381Z",
     "start_time": "2024-04-25T15:19:40.693365Z"
    }
   },
   "id": "e8ce746a6453daa4",
   "execution_count": 78
  },
  {
   "cell_type": "markdown",
   "source": [
    "#### Zapis do pliku\n",
    "* przy otwieraniu pliku podajemy 'w' (write)\n",
    "* Jeśli plik nie istnieje to zostania utworzony\n",
    "* Jeśli plik istniał to jego zawartość zostanie nadpisana"
   ],
   "metadata": {
    "collapsed": false
   },
   "id": "ab1c02d52badce3"
  },
  {
   "cell_type": "code",
   "outputs": [],
   "source": [
    "with open('test2.txt', 'w') as file2:\n",
    "    file2.write('hello')"
   ],
   "metadata": {
    "collapsed": false,
    "ExecuteTime": {
     "end_time": "2024-04-25T14:53:34.462222Z",
     "start_time": "2024-04-25T14:53:34.457789Z"
    }
   },
   "id": "855e5c7e4b359ab1",
   "execution_count": 54
  },
  {
   "cell_type": "code",
   "outputs": [],
   "source": [
    "# a (append) tryb do dopisywania\n",
    "with open('test2.txt', 'a') as file2:\n",
    "    file2.write('hello again')"
   ],
   "metadata": {
    "collapsed": false,
    "ExecuteTime": {
     "end_time": "2024-04-25T14:53:35.168662Z",
     "start_time": "2024-04-25T14:53:35.165048Z"
    }
   },
   "id": "52eaa71bdee646fe",
   "execution_count": 55
  },
  {
   "cell_type": "code",
   "outputs": [],
   "source": [
    "with open('test2.txt', 'w') as file2:\n",
    "    file2.writelines(['hello\\n', 'again'])"
   ],
   "metadata": {
    "collapsed": false,
    "ExecuteTime": {
     "end_time": "2024-04-25T14:57:00.174137Z",
     "start_time": "2024-04-25T14:57:00.169841Z"
    }
   },
   "id": "feefa6b4dc6fa4ab",
   "execution_count": 58
  },
  {
   "cell_type": "code",
   "outputs": [],
   "source": [
    "#### Uwagi dotyczące napisów"
   ],
   "metadata": {
    "collapsed": false,
    "ExecuteTime": {
     "end_time": "2024-04-25T15:09:11.606540Z",
     "start_time": "2024-04-25T15:09:11.602335Z"
    }
   },
   "id": "71440ab0971c93f9",
   "execution_count": 64
  },
  {
   "cell_type": "code",
   "outputs": [
    {
     "data": {
      "text/plain": "'Wartość x to: 0.03'"
     },
     "execution_count": 65,
     "metadata": {},
     "output_type": "execute_result"
    }
   ],
   "source": [
    "x = 1/30\n",
    "'Wartość x to: {:.2f}'.format(x)"
   ],
   "metadata": {
    "collapsed": false,
    "ExecuteTime": {
     "end_time": "2024-04-25T15:09:12.310345Z",
     "start_time": "2024-04-25T15:09:12.304279Z"
    }
   },
   "id": "f29cd525d16026a3",
   "execution_count": 65
  },
  {
   "cell_type": "code",
   "outputs": [],
   "source": [
    "lista = ['a', 'b', 'c']"
   ],
   "metadata": {
    "collapsed": false,
    "ExecuteTime": {
     "end_time": "2024-04-25T15:09:44.696689Z",
     "start_time": "2024-04-25T15:09:44.693641Z"
    }
   },
   "id": "1cc083da2e4fa7ec",
   "execution_count": 67
  },
  {
   "cell_type": "code",
   "outputs": [
    {
     "data": {
      "text/plain": "'abc'"
     },
     "execution_count": 70,
     "metadata": {},
     "output_type": "execute_result"
    }
   ],
   "source": [
    "''.join(lista)"
   ],
   "metadata": {
    "collapsed": false,
    "ExecuteTime": {
     "end_time": "2024-04-25T15:10:12.528441Z",
     "start_time": "2024-04-25T15:10:12.522800Z"
    }
   },
   "id": "a9174628a2aa6f65",
   "execution_count": 70
  },
  {
   "cell_type": "code",
   "outputs": [
    {
     "data": {
      "text/plain": "'a b c'"
     },
     "execution_count": 69,
     "metadata": {},
     "output_type": "execute_result"
    }
   ],
   "source": [
    "' '.join(lista)"
   ],
   "metadata": {
    "collapsed": false,
    "ExecuteTime": {
     "end_time": "2024-04-25T15:09:48.979568Z",
     "start_time": "2024-04-25T15:09:48.974220Z"
    }
   },
   "id": "5bea3058000ec191",
   "execution_count": 69
  },
  {
   "cell_type": "markdown",
   "source": [
    "### Zadania"
   ],
   "metadata": {
    "collapsed": false
   },
   "id": "e315ef5e3911bb85"
  },
  {
   "cell_type": "markdown",
   "source": [
    "#### Zadanie 1 - pliki\n",
    "* (1a) W folderze projektu ręcznie utworzyć plik test.txt, zawierający kilka napisów. Wczytwać plik i wyświetlić zawartość.\n",
    "* (1b) Do pliku test2.txt przepisać te wiersze, które mają długość dłuższą niż 5. Każdy wiesz powinien być zapisany w nowej linii. Wykorzystać funkcję split oraz list comprehension.\n",
    "* (1c) Utworzyć listę list 10x10, zawierającą liczby rzeczywiste z zakresu (0, 1) (wykorzystać random.uniform). Zapisać utworzoną tablicę do pliku, każda lista w nowej linijce, elementy listy rozdzielone spacjami, liczby z dokładnością do dwóch cyfr po kropce dziesiętnej. Bez spacji na końcu linijki, bez entera na końcu pliku.\n",
    "* (1d) wczytaj z pliku pierwszy wiersz i umieść wczytane liczby na liście (jako liczby, nie napisy)\n"
   ],
   "metadata": {
    "collapsed": false
   },
   "id": "804237fccbf4512f"
  },
  {
   "cell_type": "code",
   "outputs": [],
   "source": [],
   "metadata": {
    "collapsed": false
   },
   "id": "dc4c938a1aa5987d"
  },
  {
   "cell_type": "markdown",
   "source": [
    "#### Zadanie 2 - wyjątki\n",
    "* (2a) Mamy planszę do gry w kółko i krzyżyk, która jest listą list, zawierających puste napisy '' o rozmiarze nxn. Zdefiniować n i utworzyć planszę korzystając z list comprehension.\n",
    "* (2b) Należy wczytać od użytkownika dwie liczby całkowite, które będą oznaczały współrzędne pola do wstawienia nowego znaku. Wczytywać pętlą while, aż użytkownik poda liczby całkowite. Wykorzystać blok try - except i wyjątek ValueError\n",
    "* (2c) Zdefiniować własny wyjątek, który będzie obsługiwał sytuację, gdy wczytane liczby są poza zakresem planszy. Wyjątek powinien posiadać docstring i drukować odpowiedni komunitat, zawierający wprowadzone liczby i wymagany zakres liczb. Wykorzystać ten wyjątek w pętli while wczytującej liczby."
   ],
   "metadata": {
    "collapsed": false
   },
   "id": "e2050a8559fac8cb"
  },
  {
   "cell_type": "code",
   "outputs": [],
   "source": [],
   "metadata": {
    "collapsed": false
   },
   "id": "6629d8af5cd4163"
  }
 ],
 "metadata": {
  "kernelspec": {
   "display_name": "Python 3",
   "language": "python",
   "name": "python3"
  },
  "language_info": {
   "codemirror_mode": {
    "name": "ipython",
    "version": 2
   },
   "file_extension": ".py",
   "mimetype": "text/x-python",
   "name": "python",
   "nbconvert_exporter": "python",
   "pygments_lexer": "ipython2",
   "version": "2.7.6"
  }
 },
 "nbformat": 4,
 "nbformat_minor": 5
}
