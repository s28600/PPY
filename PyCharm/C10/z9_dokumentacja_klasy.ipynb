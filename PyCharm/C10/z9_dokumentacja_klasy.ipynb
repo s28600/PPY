{
 "cells": [
  {
   "cell_type": "markdown",
   "source": [
    "### Klasy porównywanie\n",
    "\n",
    "* Do porównywania obiektów możemy zaimplementować magiczne metody:\n",
    "    - __eq__\n",
    "    - __lt__\n",
    "    - __le__\n",
    "    - __gt__\n",
    "    - __ge__"
   ],
   "metadata": {
    "collapsed": false
   },
   "id": "e0fe57f3a0125b94"
  },
  {
   "cell_type": "code",
   "outputs": [],
   "source": [
    "class Napis:\n",
    "    def __init__(self, napis):\n",
    "        self.napis = napis\n",
    "        \n",
    "    def __str__(self):\n",
    "        return f'Napis({self.napis})'\n",
    "    \n",
    "    def __eq__(self, other):\n",
    "        return len(self.napis) == len(other.napis)\n",
    "    \n",
    "    def __lt__(self, other):\n",
    "        return len(self.napis) <= len(other.napis)"
   ],
   "metadata": {
    "collapsed": false,
    "ExecuteTime": {
     "end_time": "2024-05-19T17:17:02.841464Z",
     "start_time": "2024-05-19T17:17:02.827901Z"
    }
   },
   "id": "b0ca94d7e1fa8b98",
   "execution_count": 1
  },
  {
   "cell_type": "code",
   "outputs": [],
   "source": [
    "n1 = Napis('aaa')\n",
    "n2 = Napis('bb')"
   ],
   "metadata": {
    "collapsed": false,
    "ExecuteTime": {
     "end_time": "2024-05-19T17:17:03.762188Z",
     "start_time": "2024-05-19T17:17:03.757459Z"
    }
   },
   "id": "d8ccaf8b2eaca9a5",
   "execution_count": 2
  },
  {
   "cell_type": "code",
   "outputs": [
    {
     "data": {
      "text/plain": "False"
     },
     "execution_count": 3,
     "metadata": {},
     "output_type": "execute_result"
    }
   ],
   "source": [
    "n1 < n2"
   ],
   "metadata": {
    "collapsed": false,
    "ExecuteTime": {
     "end_time": "2024-05-19T17:17:04.516229Z",
     "start_time": "2024-05-19T17:17:04.500668Z"
    }
   },
   "id": "e31ca53ca096879e",
   "execution_count": 3
  },
  {
   "cell_type": "code",
   "outputs": [
    {
     "ename": "TypeError",
     "evalue": "'>=' not supported between instances of 'Napis' and 'Napis'",
     "output_type": "error",
     "traceback": [
      "\u001B[1;31m---------------------------------------------------------------------------\u001B[0m",
      "\u001B[1;31mTypeError\u001B[0m                                 Traceback (most recent call last)",
      "Cell \u001B[1;32mIn[4], line 1\u001B[0m\n\u001B[1;32m----> 1\u001B[0m \u001B[43mn1\u001B[49m\u001B[43m \u001B[49m\u001B[38;5;241;43m>\u001B[39;49m\u001B[38;5;241;43m=\u001B[39;49m\u001B[43m \u001B[49m\u001B[43mn2\u001B[49m\n",
      "\u001B[1;31mTypeError\u001B[0m: '>=' not supported between instances of 'Napis' and 'Napis'"
     ]
    }
   ],
   "source": [
    "n1 >= n2"
   ],
   "metadata": {
    "collapsed": false,
    "ExecuteTime": {
     "end_time": "2024-05-19T17:17:06.702221Z",
     "start_time": "2024-05-19T17:17:06.167361Z"
    }
   },
   "id": "b0e80eb950c2b545",
   "execution_count": 4
  },
  {
   "cell_type": "code",
   "outputs": [
    {
     "data": {
      "text/plain": "[<__main__.Napis at 0x27841ab51d0>,\n <__main__.Napis at 0x27841ab7410>,\n <__main__.Napis at 0x27841ab6290>]"
     },
     "execution_count": 6,
     "metadata": {},
     "output_type": "execute_result"
    }
   ],
   "source": [
    "# uwaga str działa dla wywoływania print i konwersji na string\n",
    "s = sorted([Napis('aaa'), Napis('c'), Napis('bb')])\n",
    "s"
   ],
   "metadata": {
    "collapsed": false,
    "ExecuteTime": {
     "end_time": "2024-05-19T17:17:44.477127Z",
     "start_time": "2024-05-19T17:17:44.470680Z"
    }
   },
   "id": "1833258986ca57e5",
   "execution_count": 6
  },
  {
   "cell_type": "code",
   "outputs": [
    {
     "name": "stdout",
     "output_type": "stream",
     "text": [
      "Napis(c)\n",
      "Napis(bb)\n",
      "Napis(aaa)\n"
     ]
    }
   ],
   "source": [
    "for n in s:\n",
    "    print(n)"
   ],
   "metadata": {
    "collapsed": false,
    "ExecuteTime": {
     "end_time": "2024-05-19T17:17:59.293536Z",
     "start_time": "2024-05-19T17:17:59.287241Z"
    }
   },
   "id": "9641ac727ea62974",
   "execution_count": 7
  },
  {
   "cell_type": "code",
   "outputs": [
    {
     "data": {
      "text/plain": "'Napis(c)'"
     },
     "execution_count": 8,
     "metadata": {},
     "output_type": "execute_result"
    }
   ],
   "source": [
    "str(s[0])"
   ],
   "metadata": {
    "collapsed": false,
    "ExecuteTime": {
     "end_time": "2024-05-19T17:18:15.940568Z",
     "start_time": "2024-05-19T17:18:15.931414Z"
    }
   },
   "id": "1499324d2230fa49",
   "execution_count": 8
  },
  {
   "cell_type": "code",
   "outputs": [],
   "source": [
    "# zamienić na repr"
   ],
   "metadata": {
    "collapsed": false,
    "ExecuteTime": {
     "end_time": "2024-05-19T17:18:36.258324Z",
     "start_time": "2024-05-19T17:18:36.253624Z"
    }
   },
   "id": "93d4239f2bdbbe8e",
   "execution_count": 9
  },
  {
   "cell_type": "markdown",
   "source": [
    "### Dokumentacja\n",
    "* https://google.github.io/styleguide/pyguide.html#38-comments-and-docstrings\n",
    "* Dla modułów umieszczamy na górze pliku modułu opis (docstring)\n",
    "* Dla klas umieszczamy na początku klasy opis (docstring)\n",
    "* Dla funkcji umieszcamy opis, parametry (za Parameters:) i wartości zwracane (za Returns:)"
   ],
   "metadata": {
    "collapsed": false
   },
   "id": "9ff1b2fb4d9a1a4b"
  },
  {
   "cell_type": "code",
   "outputs": [],
   "source": [
    "# docstring dla klasy\n",
    "class MyClass:\n",
    "    \"\"\"\n",
    "    A class that ...\n",
    "    \"\"\"\n",
    "    pass"
   ],
   "metadata": {
    "collapsed": false,
    "ExecuteTime": {
     "end_time": "2024-05-19T17:19:12.405547Z",
     "start_time": "2024-05-19T17:19:12.400614Z"
    }
   },
   "id": "a89c03d735eec644",
   "execution_count": 10
  },
  {
   "cell_type": "code",
   "outputs": [
    {
     "data": {
      "text/plain": "'\\n    A class that ...\\n    '"
     },
     "execution_count": 11,
     "metadata": {},
     "output_type": "execute_result"
    }
   ],
   "source": [
    "MyClass.__doc__"
   ],
   "metadata": {
    "collapsed": false,
    "ExecuteTime": {
     "end_time": "2024-05-19T17:19:12.884218Z",
     "start_time": "2024-05-19T17:19:12.877980Z"
    }
   },
   "id": "4da7fc92ef24ec04",
   "execution_count": 11
  },
  {
   "cell_type": "code",
   "outputs": [],
   "source": [
    "# docstring dla funkcji\n",
    "def add(a, b):\n",
    "    \"\"\"\n",
    "    Adds two integers.\n",
    "\n",
    "    Parameters:\n",
    "    a (int): The first integer.\n",
    "    b (int): The second integer.\n",
    "\n",
    "    Returns:\n",
    "    int: The sum of the two integers.\n",
    "    \"\"\"\n",
    "    return a + b"
   ],
   "metadata": {
    "collapsed": false
   },
   "id": "2162ed22b6a7b058"
  },
  {
   "cell_type": "markdown",
   "source": [
    "### Anotacje typów\n",
    "* poprawia czytelność\n",
    "* metoda dokumentacji"
   ],
   "metadata": {
    "collapsed": false
   },
   "id": "7cd15ec2967ff715"
  },
  {
   "cell_type": "code",
   "outputs": [],
   "source": [
    "# typy podstawowe\n",
    "def add(a: int, b: int) -> int:\n",
    "    return a + b"
   ],
   "metadata": {
    "collapsed": false,
    "ExecuteTime": {
     "end_time": "2024-05-18T18:31:49.467976Z",
     "start_time": "2024-05-18T18:31:49.463742Z"
    }
   },
   "id": "d4f3e5f112c222fb",
   "execution_count": 36
  },
  {
   "cell_type": "code",
   "outputs": [],
   "source": [
    "# własne klasy\n",
    "def zrob_napis(napis: str) -> Napis:\n",
    "    return Napis(napis)"
   ],
   "metadata": {
    "collapsed": false,
    "ExecuteTime": {
     "end_time": "2024-05-18T18:33:19.767872Z",
     "start_time": "2024-05-18T18:33:19.763826Z"
    }
   },
   "id": "249631f832a08048",
   "execution_count": 37
  },
  {
   "cell_type": "code",
   "outputs": [
    {
     "data": {
      "text/plain": "Napis(aaaa)"
     },
     "execution_count": 38,
     "metadata": {},
     "output_type": "execute_result"
    }
   ],
   "source": [
    "zrob_napis('aaaa')"
   ],
   "metadata": {
    "collapsed": false,
    "ExecuteTime": {
     "end_time": "2024-05-18T18:33:32.623843Z",
     "start_time": "2024-05-18T18:33:32.618997Z"
    }
   },
   "id": "fc009e8f5d5f5923",
   "execution_count": 38
  },
  {
   "cell_type": "code",
   "outputs": [],
   "source": [
    "# listy \n",
    "from typing import List\n",
    "def drukuj(x: List[int]) -> None:\n",
    "    for i in x:\n",
    "        print(i)"
   ],
   "metadata": {
    "collapsed": false,
    "ExecuteTime": {
     "end_time": "2024-05-18T18:36:45.995769Z",
     "start_time": "2024-05-18T18:36:45.991294Z"
    }
   },
   "id": "f3d11857a1227b86",
   "execution_count": 41
  },
  {
   "cell_type": "code",
   "outputs": [
    {
     "name": "stdout",
     "output_type": "stream",
     "text": [
      "1\n",
      "2\n",
      "3\n"
     ]
    }
   ],
   "source": [
    "drukuj([1, 2, 3])"
   ],
   "metadata": {
    "collapsed": false,
    "ExecuteTime": {
     "end_time": "2024-05-18T18:36:46.556135Z",
     "start_time": "2024-05-18T18:36:46.550243Z"
    }
   },
   "id": "d1e769a9af378cc2",
   "execution_count": 42
  },
  {
   "cell_type": "code",
   "outputs": [],
   "source": [
    "# analogicznie Dict i Set"
   ],
   "metadata": {
    "collapsed": false,
    "ExecuteTime": {
     "end_time": "2024-05-18T18:37:39.687490Z",
     "start_time": "2024-05-18T18:37:39.682219Z"
    }
   },
   "id": "4db86ddac154b689",
   "execution_count": 43
  },
  {
   "cell_type": "code",
   "outputs": [],
   "source": [
    "# możliwe różne typy\n",
    "from typing import Union\n",
    "def drukuj(x: Union[int, str]) -> None:\n",
    "    print(x)"
   ],
   "metadata": {
    "collapsed": false,
    "ExecuteTime": {
     "end_time": "2024-05-18T18:38:28.323130Z",
     "start_time": "2024-05-18T18:38:28.319046Z"
    }
   },
   "id": "e883195f81994a76",
   "execution_count": 44
  },
  {
   "cell_type": "code",
   "outputs": [
    {
     "name": "stdout",
     "output_type": "stream",
     "text": [
      "3\n"
     ]
    }
   ],
   "source": [
    "drukuj(3)"
   ],
   "metadata": {
    "collapsed": false,
    "ExecuteTime": {
     "end_time": "2024-05-18T18:38:43.540843Z",
     "start_time": "2024-05-18T18:38:43.535687Z"
    }
   },
   "id": "43a4633055094f6",
   "execution_count": 46
  },
  {
   "cell_type": "markdown",
   "source": [
    "### Zadanie\n",
    "Przykładowe zadanie na kolokwium 2"
   ],
   "metadata": {
    "collapsed": false
   },
   "id": "bfab7d51f50f212b"
  },
  {
   "cell_type": "code",
   "outputs": [],
   "source": [],
   "metadata": {
    "collapsed": false
   },
   "id": "c8970c18605f363c"
  }
 ],
 "metadata": {
  "kernelspec": {
   "display_name": "Python 3",
   "language": "python",
   "name": "python3"
  },
  "language_info": {
   "codemirror_mode": {
    "name": "ipython",
    "version": 2
   },
   "file_extension": ".py",
   "mimetype": "text/x-python",
   "name": "python",
   "nbconvert_exporter": "python",
   "pygments_lexer": "ipython2",
   "version": "2.7.6"
  }
 },
 "nbformat": 4,
 "nbformat_minor": 5
}
